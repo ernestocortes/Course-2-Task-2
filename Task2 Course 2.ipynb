{
 "cells": [
  {
   "cell_type": "code",
   "execution_count": 1,
   "metadata": {},
   "outputs": [],
   "source": [
    "#DS Basics\n",
    "\n",
    "import numpy as np\n",
    "import pandas as pd\n",
    "import pandas_profiling\n",
    "import matplotlib.pyplot as plt\n",
    "import seaborn as sns"
   ]
  },
  {
   "cell_type": "code",
   "execution_count": 2,
   "metadata": {},
   "outputs": [],
   "source": [
    "#SKLearn Stuff\n",
    "\n",
    "from sklearn.model_selection import train_test_split\n",
    "from sklearn.metrics import accuracy_score, classification_report\n",
    "from sklearn.ensemble import RandomForestClassifier, GradientBoostingClassifier\n",
    "from sklearn.tree import DecisionTreeClassifier\n",
    "from sklearn.model_selection import cross_val_score\n",
    "from sklearn.preprocessing import LabelEncoder"
   ]
  },
  {
   "cell_type": "code",
   "execution_count": 3,
   "metadata": {},
   "outputs": [],
   "source": [
    "#helpers\n",
    "%matplotlib inline"
   ]
  },
  {
   "cell_type": "code",
   "execution_count": 4,
   "metadata": {},
   "outputs": [
    {
     "data": {
      "text/html": [
       "<div>\n",
       "<style scoped>\n",
       "    .dataframe tbody tr th:only-of-type {\n",
       "        vertical-align: middle;\n",
       "    }\n",
       "\n",
       "    .dataframe tbody tr th {\n",
       "        vertical-align: top;\n",
       "    }\n",
       "\n",
       "    .dataframe thead th {\n",
       "        text-align: right;\n",
       "    }\n",
       "</style>\n",
       "<table border=\"1\" class=\"dataframe\">\n",
       "  <thead>\n",
       "    <tr style=\"text-align: right;\">\n",
       "      <th></th>\n",
       "      <th>ID</th>\n",
       "      <th>LIMIT_BAL</th>\n",
       "      <th>SEX</th>\n",
       "      <th>EDUCATION</th>\n",
       "      <th>MARRIAGE</th>\n",
       "      <th>AGE</th>\n",
       "      <th>PAY_0</th>\n",
       "      <th>PAY_2</th>\n",
       "      <th>PAY_3</th>\n",
       "      <th>PAY_4</th>\n",
       "      <th>...</th>\n",
       "      <th>BILL_AMT5</th>\n",
       "      <th>BILL_AMT6</th>\n",
       "      <th>PAY_AMT1</th>\n",
       "      <th>PAY_AMT2</th>\n",
       "      <th>PAY_AMT3</th>\n",
       "      <th>PAY_AMT4</th>\n",
       "      <th>PAY_AMT5</th>\n",
       "      <th>PAY_AMT6</th>\n",
       "      <th>TYPE</th>\n",
       "      <th>TYPE2</th>\n",
       "    </tr>\n",
       "  </thead>\n",
       "  <tbody>\n",
       "    <tr>\n",
       "      <th>0</th>\n",
       "      <td>1</td>\n",
       "      <td>20000</td>\n",
       "      <td>female</td>\n",
       "      <td>university</td>\n",
       "      <td>1</td>\n",
       "      <td>24</td>\n",
       "      <td>2</td>\n",
       "      <td>2</td>\n",
       "      <td>-1</td>\n",
       "      <td>-1</td>\n",
       "      <td>...</td>\n",
       "      <td>0</td>\n",
       "      <td>0</td>\n",
       "      <td>0</td>\n",
       "      <td>689</td>\n",
       "      <td>0</td>\n",
       "      <td>0</td>\n",
       "      <td>0</td>\n",
       "      <td>0</td>\n",
       "      <td>default</td>\n",
       "      <td>1</td>\n",
       "    </tr>\n",
       "    <tr>\n",
       "      <th>1</th>\n",
       "      <td>2</td>\n",
       "      <td>120000</td>\n",
       "      <td>female</td>\n",
       "      <td>university</td>\n",
       "      <td>2</td>\n",
       "      <td>26</td>\n",
       "      <td>-1</td>\n",
       "      <td>2</td>\n",
       "      <td>0</td>\n",
       "      <td>0</td>\n",
       "      <td>...</td>\n",
       "      <td>3455</td>\n",
       "      <td>3261</td>\n",
       "      <td>0</td>\n",
       "      <td>1000</td>\n",
       "      <td>1000</td>\n",
       "      <td>1000</td>\n",
       "      <td>0</td>\n",
       "      <td>2000</td>\n",
       "      <td>default</td>\n",
       "      <td>1</td>\n",
       "    </tr>\n",
       "    <tr>\n",
       "      <th>2</th>\n",
       "      <td>3</td>\n",
       "      <td>90000</td>\n",
       "      <td>female</td>\n",
       "      <td>university</td>\n",
       "      <td>2</td>\n",
       "      <td>34</td>\n",
       "      <td>0</td>\n",
       "      <td>0</td>\n",
       "      <td>0</td>\n",
       "      <td>0</td>\n",
       "      <td>...</td>\n",
       "      <td>14948</td>\n",
       "      <td>15549</td>\n",
       "      <td>1518</td>\n",
       "      <td>1500</td>\n",
       "      <td>1000</td>\n",
       "      <td>1000</td>\n",
       "      <td>1000</td>\n",
       "      <td>5000</td>\n",
       "      <td>not default</td>\n",
       "      <td>0</td>\n",
       "    </tr>\n",
       "    <tr>\n",
       "      <th>3</th>\n",
       "      <td>4</td>\n",
       "      <td>50000</td>\n",
       "      <td>female</td>\n",
       "      <td>university</td>\n",
       "      <td>1</td>\n",
       "      <td>37</td>\n",
       "      <td>0</td>\n",
       "      <td>0</td>\n",
       "      <td>0</td>\n",
       "      <td>0</td>\n",
       "      <td>...</td>\n",
       "      <td>28959</td>\n",
       "      <td>29547</td>\n",
       "      <td>2000</td>\n",
       "      <td>2019</td>\n",
       "      <td>1200</td>\n",
       "      <td>1100</td>\n",
       "      <td>1069</td>\n",
       "      <td>1000</td>\n",
       "      <td>not default</td>\n",
       "      <td>0</td>\n",
       "    </tr>\n",
       "    <tr>\n",
       "      <th>4</th>\n",
       "      <td>5</td>\n",
       "      <td>50000</td>\n",
       "      <td>male</td>\n",
       "      <td>university</td>\n",
       "      <td>1</td>\n",
       "      <td>57</td>\n",
       "      <td>-1</td>\n",
       "      <td>0</td>\n",
       "      <td>-1</td>\n",
       "      <td>0</td>\n",
       "      <td>...</td>\n",
       "      <td>19146</td>\n",
       "      <td>19131</td>\n",
       "      <td>2000</td>\n",
       "      <td>36681</td>\n",
       "      <td>10000</td>\n",
       "      <td>9000</td>\n",
       "      <td>689</td>\n",
       "      <td>679</td>\n",
       "      <td>not default</td>\n",
       "      <td>0</td>\n",
       "    </tr>\n",
       "  </tbody>\n",
       "</table>\n",
       "<p>5 rows × 26 columns</p>\n",
       "</div>"
      ],
      "text/plain": [
       "   ID  LIMIT_BAL     SEX   EDUCATION  MARRIAGE  AGE  PAY_0  PAY_2  PAY_3  \\\n",
       "0   1      20000  female  university         1   24      2      2     -1   \n",
       "1   2     120000  female  university         2   26     -1      2      0   \n",
       "2   3      90000  female  university         2   34      0      0      0   \n",
       "3   4      50000  female  university         1   37      0      0      0   \n",
       "4   5      50000    male  university         1   57     -1      0     -1   \n",
       "\n",
       "   PAY_4  ...  BILL_AMT5  BILL_AMT6  PAY_AMT1  PAY_AMT2  PAY_AMT3  PAY_AMT4  \\\n",
       "0     -1  ...          0          0         0       689         0         0   \n",
       "1      0  ...       3455       3261         0      1000      1000      1000   \n",
       "2      0  ...      14948      15549      1518      1500      1000      1000   \n",
       "3      0  ...      28959      29547      2000      2019      1200      1100   \n",
       "4      0  ...      19146      19131      2000     36681     10000      9000   \n",
       "\n",
       "   PAY_AMT5  PAY_AMT6         TYPE  TYPE2  \n",
       "0         0         0      default      1  \n",
       "1         0      2000      default      1  \n",
       "2      1000      5000  not default      0  \n",
       "3      1069      1000  not default      0  \n",
       "4       689       679  not default      0  \n",
       "\n",
       "[5 rows x 26 columns]"
      ]
     },
     "execution_count": 4,
     "metadata": {},
     "output_type": "execute_result"
    }
   ],
   "source": [
    "data = pd.read_csv('default of credit card clients1.csv')\n",
    "data.head()"
   ]
  },
  {
   "cell_type": "code",
   "execution_count": 94,
   "metadata": {},
   "outputs": [
    {
     "data": {
      "text/html": [
       "<div>\n",
       "<style scoped>\n",
       "    .dataframe tbody tr th:only-of-type {\n",
       "        vertical-align: middle;\n",
       "    }\n",
       "\n",
       "    .dataframe tbody tr th {\n",
       "        vertical-align: top;\n",
       "    }\n",
       "\n",
       "    .dataframe thead th {\n",
       "        text-align: right;\n",
       "    }\n",
       "</style>\n",
       "<table border=\"1\" class=\"dataframe\">\n",
       "  <thead>\n",
       "    <tr style=\"text-align: right;\">\n",
       "      <th></th>\n",
       "      <th>ID</th>\n",
       "      <th>LIMIT_BAL</th>\n",
       "      <th>MARRIAGE</th>\n",
       "      <th>AGE</th>\n",
       "      <th>PAY_0</th>\n",
       "      <th>PAY_2</th>\n",
       "      <th>PAY_3</th>\n",
       "      <th>PAY_4</th>\n",
       "      <th>PAY_5</th>\n",
       "      <th>PAY_6</th>\n",
       "      <th>...</th>\n",
       "      <th>BILL_AMT4</th>\n",
       "      <th>BILL_AMT5</th>\n",
       "      <th>BILL_AMT6</th>\n",
       "      <th>PAY_AMT1</th>\n",
       "      <th>PAY_AMT2</th>\n",
       "      <th>PAY_AMT3</th>\n",
       "      <th>PAY_AMT4</th>\n",
       "      <th>PAY_AMT5</th>\n",
       "      <th>PAY_AMT6</th>\n",
       "      <th>TYPE2</th>\n",
       "    </tr>\n",
       "  </thead>\n",
       "  <tbody>\n",
       "    <tr>\n",
       "      <th>count</th>\n",
       "      <td>30000.000000</td>\n",
       "      <td>30000.000000</td>\n",
       "      <td>30000.000000</td>\n",
       "      <td>30000.000000</td>\n",
       "      <td>30000.000000</td>\n",
       "      <td>30000.000000</td>\n",
       "      <td>30000.000000</td>\n",
       "      <td>30000.000000</td>\n",
       "      <td>30000.000000</td>\n",
       "      <td>30000.000000</td>\n",
       "      <td>...</td>\n",
       "      <td>30000.000000</td>\n",
       "      <td>30000.000000</td>\n",
       "      <td>30000.000000</td>\n",
       "      <td>30000.000000</td>\n",
       "      <td>3.000000e+04</td>\n",
       "      <td>30000.00000</td>\n",
       "      <td>30000.000000</td>\n",
       "      <td>30000.000000</td>\n",
       "      <td>30000.000000</td>\n",
       "      <td>30000.000000</td>\n",
       "    </tr>\n",
       "    <tr>\n",
       "      <th>mean</th>\n",
       "      <td>15000.500000</td>\n",
       "      <td>167484.322667</td>\n",
       "      <td>1.551867</td>\n",
       "      <td>35.485500</td>\n",
       "      <td>-0.016700</td>\n",
       "      <td>-0.133767</td>\n",
       "      <td>-0.166200</td>\n",
       "      <td>-0.220667</td>\n",
       "      <td>-0.266200</td>\n",
       "      <td>-0.291100</td>\n",
       "      <td>...</td>\n",
       "      <td>43262.948967</td>\n",
       "      <td>40311.400967</td>\n",
       "      <td>38871.760400</td>\n",
       "      <td>5663.580500</td>\n",
       "      <td>5.921163e+03</td>\n",
       "      <td>5225.68150</td>\n",
       "      <td>4826.076867</td>\n",
       "      <td>4799.387633</td>\n",
       "      <td>5215.502567</td>\n",
       "      <td>0.221200</td>\n",
       "    </tr>\n",
       "    <tr>\n",
       "      <th>std</th>\n",
       "      <td>8660.398374</td>\n",
       "      <td>129747.661567</td>\n",
       "      <td>0.521970</td>\n",
       "      <td>9.217904</td>\n",
       "      <td>1.123802</td>\n",
       "      <td>1.197186</td>\n",
       "      <td>1.196868</td>\n",
       "      <td>1.169139</td>\n",
       "      <td>1.133187</td>\n",
       "      <td>1.149988</td>\n",
       "      <td>...</td>\n",
       "      <td>64332.856134</td>\n",
       "      <td>60797.155770</td>\n",
       "      <td>59554.107537</td>\n",
       "      <td>16563.280354</td>\n",
       "      <td>2.304087e+04</td>\n",
       "      <td>17606.96147</td>\n",
       "      <td>15666.159744</td>\n",
       "      <td>15278.305679</td>\n",
       "      <td>17777.465775</td>\n",
       "      <td>0.415062</td>\n",
       "    </tr>\n",
       "    <tr>\n",
       "      <th>min</th>\n",
       "      <td>1.000000</td>\n",
       "      <td>10000.000000</td>\n",
       "      <td>0.000000</td>\n",
       "      <td>21.000000</td>\n",
       "      <td>-2.000000</td>\n",
       "      <td>-2.000000</td>\n",
       "      <td>-2.000000</td>\n",
       "      <td>-2.000000</td>\n",
       "      <td>-2.000000</td>\n",
       "      <td>-2.000000</td>\n",
       "      <td>...</td>\n",
       "      <td>-170000.000000</td>\n",
       "      <td>-81334.000000</td>\n",
       "      <td>-339603.000000</td>\n",
       "      <td>0.000000</td>\n",
       "      <td>0.000000e+00</td>\n",
       "      <td>0.00000</td>\n",
       "      <td>0.000000</td>\n",
       "      <td>0.000000</td>\n",
       "      <td>0.000000</td>\n",
       "      <td>0.000000</td>\n",
       "    </tr>\n",
       "    <tr>\n",
       "      <th>25%</th>\n",
       "      <td>7500.750000</td>\n",
       "      <td>50000.000000</td>\n",
       "      <td>1.000000</td>\n",
       "      <td>28.000000</td>\n",
       "      <td>-1.000000</td>\n",
       "      <td>-1.000000</td>\n",
       "      <td>-1.000000</td>\n",
       "      <td>-1.000000</td>\n",
       "      <td>-1.000000</td>\n",
       "      <td>-1.000000</td>\n",
       "      <td>...</td>\n",
       "      <td>2326.750000</td>\n",
       "      <td>1763.000000</td>\n",
       "      <td>1256.000000</td>\n",
       "      <td>1000.000000</td>\n",
       "      <td>8.330000e+02</td>\n",
       "      <td>390.00000</td>\n",
       "      <td>296.000000</td>\n",
       "      <td>252.500000</td>\n",
       "      <td>117.750000</td>\n",
       "      <td>0.000000</td>\n",
       "    </tr>\n",
       "    <tr>\n",
       "      <th>50%</th>\n",
       "      <td>15000.500000</td>\n",
       "      <td>140000.000000</td>\n",
       "      <td>2.000000</td>\n",
       "      <td>34.000000</td>\n",
       "      <td>0.000000</td>\n",
       "      <td>0.000000</td>\n",
       "      <td>0.000000</td>\n",
       "      <td>0.000000</td>\n",
       "      <td>0.000000</td>\n",
       "      <td>0.000000</td>\n",
       "      <td>...</td>\n",
       "      <td>19052.000000</td>\n",
       "      <td>18104.500000</td>\n",
       "      <td>17071.000000</td>\n",
       "      <td>2100.000000</td>\n",
       "      <td>2.009000e+03</td>\n",
       "      <td>1800.00000</td>\n",
       "      <td>1500.000000</td>\n",
       "      <td>1500.000000</td>\n",
       "      <td>1500.000000</td>\n",
       "      <td>0.000000</td>\n",
       "    </tr>\n",
       "    <tr>\n",
       "      <th>75%</th>\n",
       "      <td>22500.250000</td>\n",
       "      <td>240000.000000</td>\n",
       "      <td>2.000000</td>\n",
       "      <td>41.000000</td>\n",
       "      <td>0.000000</td>\n",
       "      <td>0.000000</td>\n",
       "      <td>0.000000</td>\n",
       "      <td>0.000000</td>\n",
       "      <td>0.000000</td>\n",
       "      <td>0.000000</td>\n",
       "      <td>...</td>\n",
       "      <td>54506.000000</td>\n",
       "      <td>50190.500000</td>\n",
       "      <td>49198.250000</td>\n",
       "      <td>5006.000000</td>\n",
       "      <td>5.000000e+03</td>\n",
       "      <td>4505.00000</td>\n",
       "      <td>4013.250000</td>\n",
       "      <td>4031.500000</td>\n",
       "      <td>4000.000000</td>\n",
       "      <td>0.000000</td>\n",
       "    </tr>\n",
       "    <tr>\n",
       "      <th>max</th>\n",
       "      <td>30000.000000</td>\n",
       "      <td>1000000.000000</td>\n",
       "      <td>3.000000</td>\n",
       "      <td>79.000000</td>\n",
       "      <td>8.000000</td>\n",
       "      <td>8.000000</td>\n",
       "      <td>8.000000</td>\n",
       "      <td>8.000000</td>\n",
       "      <td>8.000000</td>\n",
       "      <td>8.000000</td>\n",
       "      <td>...</td>\n",
       "      <td>891586.000000</td>\n",
       "      <td>927171.000000</td>\n",
       "      <td>961664.000000</td>\n",
       "      <td>873552.000000</td>\n",
       "      <td>1.684259e+06</td>\n",
       "      <td>896040.00000</td>\n",
       "      <td>621000.000000</td>\n",
       "      <td>426529.000000</td>\n",
       "      <td>528666.000000</td>\n",
       "      <td>1.000000</td>\n",
       "    </tr>\n",
       "  </tbody>\n",
       "</table>\n",
       "<p>8 rows × 23 columns</p>\n",
       "</div>"
      ],
      "text/plain": [
       "                 ID       LIMIT_BAL      MARRIAGE           AGE         PAY_0  \\\n",
       "count  30000.000000    30000.000000  30000.000000  30000.000000  30000.000000   \n",
       "mean   15000.500000   167484.322667      1.551867     35.485500     -0.016700   \n",
       "std     8660.398374   129747.661567      0.521970      9.217904      1.123802   \n",
       "min        1.000000    10000.000000      0.000000     21.000000     -2.000000   \n",
       "25%     7500.750000    50000.000000      1.000000     28.000000     -1.000000   \n",
       "50%    15000.500000   140000.000000      2.000000     34.000000      0.000000   \n",
       "75%    22500.250000   240000.000000      2.000000     41.000000      0.000000   \n",
       "max    30000.000000  1000000.000000      3.000000     79.000000      8.000000   \n",
       "\n",
       "              PAY_2         PAY_3         PAY_4         PAY_5         PAY_6  \\\n",
       "count  30000.000000  30000.000000  30000.000000  30000.000000  30000.000000   \n",
       "mean      -0.133767     -0.166200     -0.220667     -0.266200     -0.291100   \n",
       "std        1.197186      1.196868      1.169139      1.133187      1.149988   \n",
       "min       -2.000000     -2.000000     -2.000000     -2.000000     -2.000000   \n",
       "25%       -1.000000     -1.000000     -1.000000     -1.000000     -1.000000   \n",
       "50%        0.000000      0.000000      0.000000      0.000000      0.000000   \n",
       "75%        0.000000      0.000000      0.000000      0.000000      0.000000   \n",
       "max        8.000000      8.000000      8.000000      8.000000      8.000000   \n",
       "\n",
       "       ...      BILL_AMT4      BILL_AMT5      BILL_AMT6       PAY_AMT1  \\\n",
       "count  ...   30000.000000   30000.000000   30000.000000   30000.000000   \n",
       "mean   ...   43262.948967   40311.400967   38871.760400    5663.580500   \n",
       "std    ...   64332.856134   60797.155770   59554.107537   16563.280354   \n",
       "min    ... -170000.000000  -81334.000000 -339603.000000       0.000000   \n",
       "25%    ...    2326.750000    1763.000000    1256.000000    1000.000000   \n",
       "50%    ...   19052.000000   18104.500000   17071.000000    2100.000000   \n",
       "75%    ...   54506.000000   50190.500000   49198.250000    5006.000000   \n",
       "max    ...  891586.000000  927171.000000  961664.000000  873552.000000   \n",
       "\n",
       "           PAY_AMT2      PAY_AMT3       PAY_AMT4       PAY_AMT5  \\\n",
       "count  3.000000e+04   30000.00000   30000.000000   30000.000000   \n",
       "mean   5.921163e+03    5225.68150    4826.076867    4799.387633   \n",
       "std    2.304087e+04   17606.96147   15666.159744   15278.305679   \n",
       "min    0.000000e+00       0.00000       0.000000       0.000000   \n",
       "25%    8.330000e+02     390.00000     296.000000     252.500000   \n",
       "50%    2.009000e+03    1800.00000    1500.000000    1500.000000   \n",
       "75%    5.000000e+03    4505.00000    4013.250000    4031.500000   \n",
       "max    1.684259e+06  896040.00000  621000.000000  426529.000000   \n",
       "\n",
       "            PAY_AMT6         TYPE2  \n",
       "count   30000.000000  30000.000000  \n",
       "mean     5215.502567      0.221200  \n",
       "std     17777.465775      0.415062  \n",
       "min         0.000000      0.000000  \n",
       "25%       117.750000      0.000000  \n",
       "50%      1500.000000      0.000000  \n",
       "75%      4000.000000      0.000000  \n",
       "max    528666.000000      1.000000  \n",
       "\n",
       "[8 rows x 23 columns]"
      ]
     },
     "execution_count": 94,
     "metadata": {},
     "output_type": "execute_result"
    }
   ],
   "source": [
    "data.describe()"
   ]
  },
  {
   "cell_type": "code",
   "execution_count": 5,
   "metadata": {},
   "outputs": [
    {
     "name": "stdout",
     "output_type": "stream",
     "text": [
      "<class 'pandas.core.frame.DataFrame'>\n",
      "RangeIndex: 30000 entries, 0 to 29999\n",
      "Data columns (total 26 columns):\n",
      " #   Column     Non-Null Count  Dtype \n",
      "---  ------     --------------  ----- \n",
      " 0   ID         30000 non-null  int64 \n",
      " 1   LIMIT_BAL  30000 non-null  int64 \n",
      " 2   SEX        30000 non-null  object\n",
      " 3   EDUCATION  30000 non-null  object\n",
      " 4   MARRIAGE   30000 non-null  int64 \n",
      " 5   AGE        30000 non-null  int64 \n",
      " 6   PAY_0      30000 non-null  int64 \n",
      " 7   PAY_2      30000 non-null  int64 \n",
      " 8   PAY_3      30000 non-null  int64 \n",
      " 9   PAY_4      30000 non-null  int64 \n",
      " 10  PAY_5      30000 non-null  int64 \n",
      " 11  PAY_6      30000 non-null  int64 \n",
      " 12  BILL_AMT1  30000 non-null  int64 \n",
      " 13  BILL_AMT2  30000 non-null  int64 \n",
      " 14  BILL_AMT3  30000 non-null  int64 \n",
      " 15  BILL_AMT4  30000 non-null  int64 \n",
      " 16  BILL_AMT5  30000 non-null  int64 \n",
      " 17  BILL_AMT6  30000 non-null  int64 \n",
      " 18  PAY_AMT1   30000 non-null  int64 \n",
      " 19  PAY_AMT2   30000 non-null  int64 \n",
      " 20  PAY_AMT3   30000 non-null  int64 \n",
      " 21  PAY_AMT4   30000 non-null  int64 \n",
      " 22  PAY_AMT5   30000 non-null  int64 \n",
      " 23  PAY_AMT6   30000 non-null  int64 \n",
      " 24  TYPE       30000 non-null  object\n",
      " 25  TYPE2      30000 non-null  int64 \n",
      "dtypes: int64(23), object(3)\n",
      "memory usage: 6.0+ MB\n"
     ]
    }
   ],
   "source": [
    "data.info()"
   ]
  },
  {
   "cell_type": "code",
   "execution_count": 6,
   "metadata": {},
   "outputs": [],
   "source": [
    "data = data.drop_duplicates()"
   ]
  },
  {
   "cell_type": "code",
   "execution_count": 7,
   "metadata": {},
   "outputs": [
    {
     "name": "stdout",
     "output_type": "stream",
     "text": [
      "Selected Columns\n"
     ]
    },
    {
     "data": {
      "text/html": [
       "<div>\n",
       "<style scoped>\n",
       "    .dataframe tbody tr th:only-of-type {\n",
       "        vertical-align: middle;\n",
       "    }\n",
       "\n",
       "    .dataframe tbody tr th {\n",
       "        vertical-align: top;\n",
       "    }\n",
       "\n",
       "    .dataframe thead th {\n",
       "        text-align: right;\n",
       "    }\n",
       "</style>\n",
       "<table border=\"1\" class=\"dataframe\">\n",
       "  <thead>\n",
       "    <tr style=\"text-align: right;\">\n",
       "      <th></th>\n",
       "      <th>LIMIT_BAL</th>\n",
       "      <th>SEX</th>\n",
       "      <th>EDUCATION</th>\n",
       "      <th>MARRIAGE</th>\n",
       "      <th>AGE</th>\n",
       "      <th>TYPE</th>\n",
       "      <th>TYPE2</th>\n",
       "      <th>PAY_0</th>\n",
       "      <th>PAY_2</th>\n",
       "      <th>PAY_3</th>\n",
       "      <th>PAY_4</th>\n",
       "      <th>PAY_5</th>\n",
       "      <th>PAY_6</th>\n",
       "    </tr>\n",
       "  </thead>\n",
       "  <tbody>\n",
       "    <tr>\n",
       "      <th>0</th>\n",
       "      <td>20000</td>\n",
       "      <td>female</td>\n",
       "      <td>university</td>\n",
       "      <td>1</td>\n",
       "      <td>24</td>\n",
       "      <td>default</td>\n",
       "      <td>1</td>\n",
       "      <td>2</td>\n",
       "      <td>2</td>\n",
       "      <td>-1</td>\n",
       "      <td>-1</td>\n",
       "      <td>-2</td>\n",
       "      <td>-2</td>\n",
       "    </tr>\n",
       "    <tr>\n",
       "      <th>1</th>\n",
       "      <td>120000</td>\n",
       "      <td>female</td>\n",
       "      <td>university</td>\n",
       "      <td>2</td>\n",
       "      <td>26</td>\n",
       "      <td>default</td>\n",
       "      <td>1</td>\n",
       "      <td>-1</td>\n",
       "      <td>2</td>\n",
       "      <td>0</td>\n",
       "      <td>0</td>\n",
       "      <td>0</td>\n",
       "      <td>2</td>\n",
       "    </tr>\n",
       "    <tr>\n",
       "      <th>2</th>\n",
       "      <td>90000</td>\n",
       "      <td>female</td>\n",
       "      <td>university</td>\n",
       "      <td>2</td>\n",
       "      <td>34</td>\n",
       "      <td>not default</td>\n",
       "      <td>0</td>\n",
       "      <td>0</td>\n",
       "      <td>0</td>\n",
       "      <td>0</td>\n",
       "      <td>0</td>\n",
       "      <td>0</td>\n",
       "      <td>0</td>\n",
       "    </tr>\n",
       "    <tr>\n",
       "      <th>3</th>\n",
       "      <td>50000</td>\n",
       "      <td>female</td>\n",
       "      <td>university</td>\n",
       "      <td>1</td>\n",
       "      <td>37</td>\n",
       "      <td>not default</td>\n",
       "      <td>0</td>\n",
       "      <td>0</td>\n",
       "      <td>0</td>\n",
       "      <td>0</td>\n",
       "      <td>0</td>\n",
       "      <td>0</td>\n",
       "      <td>0</td>\n",
       "    </tr>\n",
       "    <tr>\n",
       "      <th>4</th>\n",
       "      <td>50000</td>\n",
       "      <td>male</td>\n",
       "      <td>university</td>\n",
       "      <td>1</td>\n",
       "      <td>57</td>\n",
       "      <td>not default</td>\n",
       "      <td>0</td>\n",
       "      <td>-1</td>\n",
       "      <td>0</td>\n",
       "      <td>-1</td>\n",
       "      <td>0</td>\n",
       "      <td>0</td>\n",
       "      <td>0</td>\n",
       "    </tr>\n",
       "  </tbody>\n",
       "</table>\n",
       "</div>"
      ],
      "text/plain": [
       "   LIMIT_BAL     SEX   EDUCATION  MARRIAGE  AGE         TYPE  TYPE2  PAY_0  \\\n",
       "0      20000  female  university         1   24      default      1      2   \n",
       "1     120000  female  university         2   26      default      1     -1   \n",
       "2      90000  female  university         2   34  not default      0      0   \n",
       "3      50000  female  university         1   37  not default      0      0   \n",
       "4      50000    male  university         1   57  not default      0     -1   \n",
       "\n",
       "   PAY_2  PAY_3  PAY_4  PAY_5  PAY_6  \n",
       "0      2     -1     -1     -2     -2  \n",
       "1      2      0      0      0      2  \n",
       "2      0      0      0      0      0  \n",
       "3      0      0      0      0      0  \n",
       "4      0     -1      0      0      0  "
      ]
     },
     "execution_count": 7,
     "metadata": {},
     "output_type": "execute_result"
    }
   ],
   "source": [
    "#select columns\n",
    "data1 = data.loc[:, ['LIMIT_BAL','SEX','EDUCATION','MARRIAGE','AGE','TYPE','TYPE2','PAY_0', 'PAY_2', 'PAY_3', 'PAY_4', 'PAY_5', 'PAY_6']] \n",
    "print('Selected Columns')\n",
    "data1.head()"
   ]
  },
  {
   "cell_type": "code",
   "execution_count": 8,
   "metadata": {},
   "outputs": [
    {
     "name": "stdout",
     "output_type": "stream",
     "text": [
      "<class 'pandas.core.frame.DataFrame'>\n",
      "Int64Index: 30000 entries, 0 to 29999\n",
      "Data columns (total 13 columns):\n",
      " #   Column     Non-Null Count  Dtype \n",
      "---  ------     --------------  ----- \n",
      " 0   LIMIT_BAL  30000 non-null  int64 \n",
      " 1   SEX        30000 non-null  object\n",
      " 2   EDUCATION  30000 non-null  object\n",
      " 3   MARRIAGE   30000 non-null  int64 \n",
      " 4   AGE        30000 non-null  int64 \n",
      " 5   TYPE       30000 non-null  object\n",
      " 6   TYPE2      30000 non-null  int64 \n",
      " 7   PAY_0      30000 non-null  int64 \n",
      " 8   PAY_2      30000 non-null  int64 \n",
      " 9   PAY_3      30000 non-null  int64 \n",
      " 10  PAY_4      30000 non-null  int64 \n",
      " 11  PAY_5      30000 non-null  int64 \n",
      " 12  PAY_6      30000 non-null  int64 \n",
      "dtypes: int64(10), object(3)\n",
      "memory usage: 3.2+ MB\n"
     ]
    }
   ],
   "source": [
    "data1.info()"
   ]
  },
  {
   "cell_type": "code",
   "execution_count": 9,
   "metadata": {},
   "outputs": [],
   "source": [
    "#AGE BIN\n",
    "bins = [0,25,43,54,85]\n",
    "#group names\n",
    "gen = ['Gen Z','Millennial','Gen X','Boomer']"
   ]
  },
  {
   "cell_type": "code",
   "execution_count": 10,
   "metadata": {},
   "outputs": [],
   "source": [
    "data1['Generation'] = pd.cut(data1.AGE, bins, labels = gen)"
   ]
  },
  {
   "cell_type": "code",
   "execution_count": 11,
   "metadata": {},
   "outputs": [],
   "source": [
    "#CREDIT LIMIT BIN \n",
    "binslimit = [0, 50000, 100000, 150000, 200000, 250000, 300000, 350000, 400000, 1000000]\n",
    "#group names\n",
    "limits = ['0-50k','50k-100k','100k-150k','150k-200k','200k-250k','250-300k','300k-350k','350k-400k','400k-1000k']"
   ]
  },
  {
   "cell_type": "code",
   "execution_count": 12,
   "metadata": {},
   "outputs": [],
   "source": [
    "data1['LIMIT_BIN'] = pd.cut(data1.LIMIT_BAL, binslimit, labels = limits)"
   ]
  },
  {
   "cell_type": "code",
   "execution_count": 13,
   "metadata": {},
   "outputs": [
    {
     "data": {
      "text/html": [
       "<div>\n",
       "<style scoped>\n",
       "    .dataframe tbody tr th:only-of-type {\n",
       "        vertical-align: middle;\n",
       "    }\n",
       "\n",
       "    .dataframe tbody tr th {\n",
       "        vertical-align: top;\n",
       "    }\n",
       "\n",
       "    .dataframe thead th {\n",
       "        text-align: right;\n",
       "    }\n",
       "</style>\n",
       "<table border=\"1\" class=\"dataframe\">\n",
       "  <thead>\n",
       "    <tr style=\"text-align: right;\">\n",
       "      <th></th>\n",
       "      <th>LIMIT_BAL</th>\n",
       "      <th>SEX</th>\n",
       "      <th>EDUCATION</th>\n",
       "      <th>MARRIAGE</th>\n",
       "      <th>AGE</th>\n",
       "      <th>TYPE</th>\n",
       "      <th>TYPE2</th>\n",
       "      <th>PAY_0</th>\n",
       "      <th>PAY_2</th>\n",
       "      <th>PAY_3</th>\n",
       "      <th>PAY_4</th>\n",
       "      <th>PAY_5</th>\n",
       "      <th>PAY_6</th>\n",
       "      <th>Generation</th>\n",
       "      <th>LIMIT_BIN</th>\n",
       "    </tr>\n",
       "  </thead>\n",
       "  <tbody>\n",
       "    <tr>\n",
       "      <th>0</th>\n",
       "      <td>20000</td>\n",
       "      <td>female</td>\n",
       "      <td>university</td>\n",
       "      <td>1</td>\n",
       "      <td>24</td>\n",
       "      <td>default</td>\n",
       "      <td>1</td>\n",
       "      <td>2</td>\n",
       "      <td>2</td>\n",
       "      <td>-1</td>\n",
       "      <td>-1</td>\n",
       "      <td>-2</td>\n",
       "      <td>-2</td>\n",
       "      <td>Gen Z</td>\n",
       "      <td>0-50k</td>\n",
       "    </tr>\n",
       "    <tr>\n",
       "      <th>1</th>\n",
       "      <td>120000</td>\n",
       "      <td>female</td>\n",
       "      <td>university</td>\n",
       "      <td>2</td>\n",
       "      <td>26</td>\n",
       "      <td>default</td>\n",
       "      <td>1</td>\n",
       "      <td>-1</td>\n",
       "      <td>2</td>\n",
       "      <td>0</td>\n",
       "      <td>0</td>\n",
       "      <td>0</td>\n",
       "      <td>2</td>\n",
       "      <td>Millennial</td>\n",
       "      <td>100k-150k</td>\n",
       "    </tr>\n",
       "    <tr>\n",
       "      <th>2</th>\n",
       "      <td>90000</td>\n",
       "      <td>female</td>\n",
       "      <td>university</td>\n",
       "      <td>2</td>\n",
       "      <td>34</td>\n",
       "      <td>not default</td>\n",
       "      <td>0</td>\n",
       "      <td>0</td>\n",
       "      <td>0</td>\n",
       "      <td>0</td>\n",
       "      <td>0</td>\n",
       "      <td>0</td>\n",
       "      <td>0</td>\n",
       "      <td>Millennial</td>\n",
       "      <td>50k-100k</td>\n",
       "    </tr>\n",
       "    <tr>\n",
       "      <th>3</th>\n",
       "      <td>50000</td>\n",
       "      <td>female</td>\n",
       "      <td>university</td>\n",
       "      <td>1</td>\n",
       "      <td>37</td>\n",
       "      <td>not default</td>\n",
       "      <td>0</td>\n",
       "      <td>0</td>\n",
       "      <td>0</td>\n",
       "      <td>0</td>\n",
       "      <td>0</td>\n",
       "      <td>0</td>\n",
       "      <td>0</td>\n",
       "      <td>Millennial</td>\n",
       "      <td>0-50k</td>\n",
       "    </tr>\n",
       "    <tr>\n",
       "      <th>4</th>\n",
       "      <td>50000</td>\n",
       "      <td>male</td>\n",
       "      <td>university</td>\n",
       "      <td>1</td>\n",
       "      <td>57</td>\n",
       "      <td>not default</td>\n",
       "      <td>0</td>\n",
       "      <td>-1</td>\n",
       "      <td>0</td>\n",
       "      <td>-1</td>\n",
       "      <td>0</td>\n",
       "      <td>0</td>\n",
       "      <td>0</td>\n",
       "      <td>Boomer</td>\n",
       "      <td>0-50k</td>\n",
       "    </tr>\n",
       "  </tbody>\n",
       "</table>\n",
       "</div>"
      ],
      "text/plain": [
       "   LIMIT_BAL     SEX   EDUCATION  MARRIAGE  AGE         TYPE  TYPE2  PAY_0  \\\n",
       "0      20000  female  university         1   24      default      1      2   \n",
       "1     120000  female  university         2   26      default      1     -1   \n",
       "2      90000  female  university         2   34  not default      0      0   \n",
       "3      50000  female  university         1   37  not default      0      0   \n",
       "4      50000    male  university         1   57  not default      0     -1   \n",
       "\n",
       "   PAY_2  PAY_3  PAY_4  PAY_5  PAY_6  Generation  LIMIT_BIN  \n",
       "0      2     -1     -1     -2     -2       Gen Z      0-50k  \n",
       "1      2      0      0      0      2  Millennial  100k-150k  \n",
       "2      0      0      0      0      0  Millennial   50k-100k  \n",
       "3      0      0      0      0      0  Millennial      0-50k  \n",
       "4      0     -1      0      0      0      Boomer      0-50k  "
      ]
     },
     "execution_count": 13,
     "metadata": {},
     "output_type": "execute_result"
    }
   ],
   "source": [
    "data1.head()"
   ]
  },
  {
   "cell_type": "code",
   "execution_count": 14,
   "metadata": {},
   "outputs": [
    {
     "data": {
      "text/plain": [
       "<seaborn.axisgrid.FacetGrid at 0x1a52ea46d00>"
      ]
     },
     "execution_count": 14,
     "metadata": {},
     "output_type": "execute_result"
    },
    {
     "data": {
      "image/png": "[encoded data removed]",
      "text/plain": [
       "<Figure size 934.5x216 with 1 Axes>"
      ]
     },
     "metadata": {
      "needs_background": "light"
     },
     "output_type": "display_data"
    }
   ],
   "source": [
    "fig = sns.FacetGrid(data1, hue='SEX', aspect= 4) \n",
    "fig.map(sns.kdeplot, 'AGE', shade=True) \n",
    "oldest = data1['AGE'].max() \n",
    "fig.set(xlim=(0,oldest)) \n",
    "fig.set(title='Distribution of Age Grouped by Gender') \n",
    "fig.add_legend()"
   ]
  },
  {
   "cell_type": "code",
   "execution_count": 15,
   "metadata": {},
   "outputs": [
    {
     "data": {
      "text/plain": [
       "<seaborn.axisgrid.FacetGrid at 0x1a52f4ff7c0>"
      ]
     },
     "execution_count": 15,
     "metadata": {},
     "output_type": "execute_result"
    },
    {
     "data": {
      "image/png": "[encoded data removed]",
      "text/plain": [
       "<Figure size 948x216 with 1 Axes>"
      ]
     },
     "metadata": {
      "needs_background": "light"
     },
     "output_type": "display_data"
    }
   ],
   "source": [
    "fig = sns.FacetGrid(data1, hue='Generation', aspect= 4) \n",
    "fig.map(sns.kdeplot, 'LIMIT_BAL', shade=True) \n",
    "top = data1['LIMIT_BAL'].max() \n",
    "fig.set(xlim=(0,top)) \n",
    "fig.set(title='Distribution of Credit by Gender') \n",
    "fig.add_legend()"
   ]
  },
  {
   "cell_type": "code",
   "execution_count": 16,
   "metadata": {},
   "outputs": [
    {
     "data": {
      "text/plain": [
       "<seaborn.axisgrid.FacetGrid at 0x1a52f5a64f0>"
      ]
     },
     "execution_count": 16,
     "metadata": {},
     "output_type": "execute_result"
    },
    {
     "data": {
      "image/png": "[encoded data removed]",
      "text/plain": [
       "<Figure size 954.75x216 with 1 Axes>"
      ]
     },
     "metadata": {
      "needs_background": "light"
     },
     "output_type": "display_data"
    }
   ],
   "source": [
    "fig = sns.FacetGrid(data1, hue='TYPE', aspect= 4) \n",
    "fig.map(sns.kdeplot, 'LIMIT_BAL', shade=True) \n",
    "top = data1['LIMIT_BAL'].max() \n",
    "fig.set(xlim=(0,top)) \n",
    "fig.set(title='Distribution of Credit by Type of Costumer') \n",
    "fig.add_legend()"
   ]
  },
  {
   "cell_type": "code",
   "execution_count": 17,
   "metadata": {},
   "outputs": [
    {
     "data": {
      "text/plain": [
       "<seaborn.axisgrid.FacetGrid at 0x1a52f5d2280>"
      ]
     },
     "execution_count": 17,
     "metadata": {},
     "output_type": "execute_result"
    },
    {
     "data": {
      "image/png": "[encoded data removed]",
      "text/plain": [
       "<Figure size 954.75x216 with 1 Axes>"
      ]
     },
     "metadata": {
      "needs_background": "light"
     },
     "output_type": "display_data"
    }
   ],
   "source": [
    "fig = sns.FacetGrid(data1, hue='TYPE', aspect= 4) \n",
    "fig.map(sns.kdeplot, 'AGE', shade=True) \n",
    "top = data1['AGE'].max() \n",
    "fig.set(xlim=(0,top)) \n",
    "fig.set(title='Distribution of Credit by Type of Costumer') \n",
    "fig.add_legend()"
   ]
  },
  {
   "cell_type": "code",
   "execution_count": 18,
   "metadata": {},
   "outputs": [
    {
     "data": {
      "text/plain": [
       "<seaborn.axisgrid.FacetGrid at 0x1a52f6b1490>"
      ]
     },
     "execution_count": 18,
     "metadata": {},
     "output_type": "execute_result"
    },
    {
     "data": {
      "image/png": "[encoded data removed]",
      "text/plain": [
       "<Figure size 980.625x216 with 1 Axes>"
      ]
     },
     "metadata": {
      "needs_background": "light"
     },
     "output_type": "display_data"
    }
   ],
   "source": [
    "fig = sns.FacetGrid(data1, hue='EDUCATION', aspect= 4) \n",
    "fig.map(sns.kdeplot, 'LIMIT_BAL', shade=True) \n",
    "top = data1['LIMIT_BAL'].max() \n",
    "fig.set(xlim=(0,top)) \n",
    "fig.set(title='Distribution of Credit by Type of Costumer') \n",
    "fig.add_legend()"
   ]
  },
  {
   "cell_type": "code",
   "execution_count": 19,
   "metadata": {},
   "outputs": [
    {
     "data": {
      "text/plain": [
       "<seaborn.axisgrid.FacetGrid at 0x1a52f735400>"
      ]
     },
     "execution_count": 19,
     "metadata": {},
     "output_type": "execute_result"
    },
    {
     "data": {
      "image/png": "[encoded data removed]",
      "text/plain": [
       "<Figure size 934.5x216 with 1 Axes>"
      ]
     },
     "metadata": {
      "needs_background": "light"
     },
     "output_type": "display_data"
    }
   ],
   "source": [
    "fig = sns.FacetGrid(data1, hue='SEX', aspect= 4) \n",
    "fig.map(sns.kdeplot, 'LIMIT_BAL', shade=True) \n",
    "top = data1['LIMIT_BAL'].max() \n",
    "fig.set(xlim=(0,top)) \n",
    "fig.set(title='Distribution of Credit by Type of Costumer') \n",
    "fig.add_legend()"
   ]
  },
  {
   "cell_type": "code",
   "execution_count": 20,
   "metadata": {},
   "outputs": [
    {
     "data": {
      "text/plain": [
       "LIMIT_BIN\n",
       "0-50k         7676\n",
       "50k-100k      4822\n",
       "100k-150k     3902\n",
       "150k-200k     3978\n",
       "200k-250k     2905\n",
       "250-300k      2154\n",
       "300k-350k     1206\n",
       "350k-400k     1553\n",
       "400k-1000k    1804\n",
       "Name: LIMIT_BIN, dtype: int64"
      ]
     },
     "execution_count": 20,
     "metadata": {},
     "output_type": "execute_result"
    }
   ],
   "source": [
    "data1.groupby('LIMIT_BIN')['LIMIT_BIN'].count()"
   ]
  },
  {
   "cell_type": "code",
   "execution_count": 21,
   "metadata": {},
   "outputs": [
    {
     "data": {
      "text/plain": [
       "<seaborn.axisgrid.FacetGrid at 0x1a52f7e3c10>"
      ]
     },
     "execution_count": 21,
     "metadata": {},
     "output_type": "execute_result"
    },
    {
     "data": {
      "image/png": "[encoded data removed]",
      "text/plain": [
       "<Figure size 540x360 with 1 Axes>"
      ]
     },
     "metadata": {
      "needs_background": "light"
     },
     "output_type": "display_data"
    }
   ],
   "source": [
    "sns.catplot('LIMIT_BIN', data=data1, kind='count', aspect=1.5)"
   ]
  },
  {
   "cell_type": "code",
   "execution_count": 22,
   "metadata": {},
   "outputs": [
    {
     "data": {
      "text/plain": [
       "Generation\n",
       "Gen Z          3871\n",
       "Millennial    20143\n",
       "Gen X          4933\n",
       "Boomer         1053\n",
       "Name: Generation, dtype: int64"
      ]
     },
     "execution_count": 22,
     "metadata": {},
     "output_type": "execute_result"
    }
   ],
   "source": [
    "data1.groupby('Generation')['Generation'].count()"
   ]
  },
  {
   "cell_type": "code",
   "execution_count": 23,
   "metadata": {},
   "outputs": [
    {
     "data": {
      "text/plain": [
       "<seaborn.axisgrid.FacetGrid at 0x1a52ea069d0>"
      ]
     },
     "execution_count": 23,
     "metadata": {},
     "output_type": "execute_result"
    },
    {
     "data": {
      "image/png": "[encoded data removed]",
      "text/plain": [
       "<Figure size 540x360 with 1 Axes>"
      ]
     },
     "metadata": {
      "needs_background": "light"
     },
     "output_type": "display_data"
    }
   ],
   "source": [
    "sns.catplot('Generation', data=data1, kind='count', aspect=1.5)"
   ]
  },
  {
   "cell_type": "code",
   "execution_count": 24,
   "metadata": {},
   "outputs": [
    {
     "data": {
      "text/plain": [
       "EDUCATION\n",
       "graduate school    10585\n",
       "high school         4917\n",
       "other                468\n",
       "university         14030\n",
       "Name: EDUCATION, dtype: int64"
      ]
     },
     "execution_count": 24,
     "metadata": {},
     "output_type": "execute_result"
    }
   ],
   "source": [
    "data1.groupby('EDUCATION')['EDUCATION'].count()"
   ]
  },
  {
   "cell_type": "code",
   "execution_count": 25,
   "metadata": {},
   "outputs": [
    {
     "data": {
      "text/plain": [
       "<seaborn.axisgrid.FacetGrid at 0x1a52f4f5400>"
      ]
     },
     "execution_count": 25,
     "metadata": {},
     "output_type": "execute_result"
    },
    {
     "data": {
      "image/png": "[encoded data removed]",
      "text/plain": [
       "<Figure size 540x360 with 1 Axes>"
      ]
     },
     "metadata": {
      "needs_background": "light"
     },
     "output_type": "display_data"
    }
   ],
   "source": [
    "sns.catplot('EDUCATION', data=data1, kind='count', aspect=1.5)"
   ]
  },
  {
   "cell_type": "code",
   "execution_count": 26,
   "metadata": {},
   "outputs": [
    {
     "data": {
      "text/plain": [
       "SEX\n",
       "female    18112\n",
       "male      11888\n",
       "Name: SEX, dtype: int64"
      ]
     },
     "execution_count": 26,
     "metadata": {},
     "output_type": "execute_result"
    }
   ],
   "source": [
    "data1.groupby('SEX')['SEX'].count()"
   ]
  },
  {
   "cell_type": "code",
   "execution_count": 27,
   "metadata": {},
   "outputs": [
    {
     "data": {
      "text/plain": [
       "<seaborn.axisgrid.FacetGrid at 0x1a52f814190>"
      ]
     },
     "execution_count": 27,
     "metadata": {},
     "output_type": "execute_result"
    },
    {
     "data": {
      "image/png": "[encoded data removed]",
      "text/plain": [
       "<Figure size 540x360 with 1 Axes>"
      ]
     },
     "metadata": {
      "needs_background": "light"
     },
     "output_type": "display_data"
    }
   ],
   "source": [
    "sns.catplot('SEX', data=data1, kind='count', aspect=1.5)"
   ]
  },
  {
   "cell_type": "code",
   "execution_count": 28,
   "metadata": {},
   "outputs": [
    {
     "data": {
      "text/plain": [
       "MARRIAGE\n",
       "0       54\n",
       "1    13659\n",
       "2    15964\n",
       "3      323\n",
       "Name: MARRIAGE, dtype: int64"
      ]
     },
     "execution_count": 28,
     "metadata": {},
     "output_type": "execute_result"
    }
   ],
   "source": [
    "data1.groupby('MARRIAGE')['MARRIAGE'].count()"
   ]
  },
  {
   "cell_type": "code",
   "execution_count": 29,
   "metadata": {},
   "outputs": [
    {
     "data": {
      "text/plain": [
       "<seaborn.axisgrid.FacetGrid at 0x1a5310d1520>"
      ]
     },
     "execution_count": 29,
     "metadata": {},
     "output_type": "execute_result"
    },
    {
     "data": {
      "image/png": "[encoded data removed]",
      "text/plain": [
       "<Figure size 540x360 with 1 Axes>"
      ]
     },
     "metadata": {
      "needs_background": "light"
     },
     "output_type": "display_data"
    }
   ],
   "source": [
    "sns.catplot('MARRIAGE', data=data1, kind='count', aspect=1.5)"
   ]
  },
  {
   "cell_type": "code",
   "execution_count": 30,
   "metadata": {},
   "outputs": [
    {
     "data": {
      "text/plain": [
       "TYPE\n",
       "default         6636\n",
       "not default    23364\n",
       "Name: TYPE, dtype: int64"
      ]
     },
     "execution_count": 30,
     "metadata": {},
     "output_type": "execute_result"
    }
   ],
   "source": [
    "data1.groupby('TYPE')['TYPE'].count()"
   ]
  },
  {
   "cell_type": "code",
   "execution_count": 31,
   "metadata": {},
   "outputs": [
    {
     "data": {
      "text/plain": [
       "<seaborn.axisgrid.FacetGrid at 0x1a530e7fc40>"
      ]
     },
     "execution_count": 31,
     "metadata": {},
     "output_type": "execute_result"
    },
    {
     "data": {
      "image/png": "[encoded data removed]",
      "text/plain": [
       "<Figure size 540x360 with 1 Axes>"
      ]
     },
     "metadata": {
      "needs_background": "light"
     },
     "output_type": "display_data"
    }
   ],
   "source": [
    "sns.catplot('TYPE', data=data1, kind='count', aspect=1.5)"
   ]
  },
  {
   "cell_type": "code",
   "execution_count": 32,
   "metadata": {},
   "outputs": [
    {
     "data": {
      "text/plain": [
       "LIMIT_BIN   TYPE       \n",
       "0-50k       default        2440\n",
       "            not default    5236\n",
       "50k-100k    default        1244\n",
       "            not default    3578\n",
       "100k-150k   default         825\n",
       "            not default    3077\n",
       "150k-200k   default         710\n",
       "            not default    3268\n",
       "200k-250k   default         480\n",
       "            not default    2425\n",
       "250-300k    default         332\n",
       "            not default    1822\n",
       "300k-350k   default         157\n",
       "            not default    1049\n",
       "350k-400k   default         231\n",
       "            not default    1322\n",
       "400k-1000k  default         217\n",
       "            not default    1587\n",
       "Name: SEX, dtype: int64"
      ]
     },
     "execution_count": 32,
     "metadata": {},
     "output_type": "execute_result"
    }
   ],
   "source": [
    "data1.groupby(['LIMIT_BIN', 'TYPE'])['SEX'].count()"
   ]
  },
  {
   "cell_type": "code",
   "execution_count": 33,
   "metadata": {},
   "outputs": [
    {
     "data": {
      "text/plain": [
       "<seaborn.axisgrid.FacetGrid at 0x1a530e99d30>"
      ]
     },
     "execution_count": 33,
     "metadata": {},
     "output_type": "execute_result"
    },
    {
     "data": {
      "image/png": "[encoded data removed]",
      "text/plain": [
       "<Figure size 725x360 with 1 Axes>"
      ]
     },
     "metadata": {
      "needs_background": "light"
     },
     "output_type": "display_data"
    }
   ],
   "source": [
    "g = sns.catplot('TYPE', data = data1, hue= 'LIMIT_BIN', kind='count', aspect=1.75) \n",
    "g.set_xlabels('TYPE')"
   ]
  },
  {
   "cell_type": "code",
   "execution_count": 34,
   "metadata": {},
   "outputs": [
    {
     "data": {
      "text/plain": [
       "SEX     TYPE       \n",
       "female  default         3763\n",
       "        not default    14349\n",
       "male    default         2873\n",
       "        not default     9015\n",
       "Name: SEX, dtype: int64"
      ]
     },
     "execution_count": 34,
     "metadata": {},
     "output_type": "execute_result"
    }
   ],
   "source": [
    "data1.groupby(['SEX', 'TYPE'])['SEX'].count()"
   ]
  },
  {
   "cell_type": "code",
   "execution_count": 35,
   "metadata": {},
   "outputs": [
    {
     "data": {
      "text/plain": [
       "<seaborn.axisgrid.FacetGrid at 0x1a530ef4910>"
      ]
     },
     "execution_count": 35,
     "metadata": {},
     "output_type": "execute_result"
    },
    {
     "data": {
      "image/png": "[encoded data removed]",
      "text/plain": [
       "<Figure size 700.5x360 with 1 Axes>"
      ]
     },
     "metadata": {
      "needs_background": "light"
     },
     "output_type": "display_data"
    }
   ],
   "source": [
    "g = sns.catplot('TYPE', data = data1, hue= 'SEX', kind='count', aspect=1.75) \n",
    "g.set_xlabels('TYPE')\n"
   ]
  },
  {
   "cell_type": "code",
   "execution_count": 36,
   "metadata": {},
   "outputs": [
    {
     "data": {
      "text/plain": [
       "SEX     Generation\n",
       "female  Gen Z          2706\n",
       "        Millennial    12148\n",
       "        Gen X          2748\n",
       "        Boomer          510\n",
       "male    Gen Z          1165\n",
       "        Millennial     7995\n",
       "        Gen X          2185\n",
       "        Boomer          543\n",
       "Name: SEX, dtype: int64"
      ]
     },
     "execution_count": 36,
     "metadata": {},
     "output_type": "execute_result"
    }
   ],
   "source": [
    "data1.groupby(['SEX', 'Generation'])['SEX'].count()"
   ]
  },
  {
   "cell_type": "code",
   "execution_count": 37,
   "metadata": {},
   "outputs": [
    {
     "data": {
      "text/plain": [
       "<seaborn.axisgrid.FacetGrid at 0x1a530fd10a0>"
      ]
     },
     "execution_count": 37,
     "metadata": {},
     "output_type": "execute_result"
    },
    {
     "data": {
      "image/png": "[encoded data removed]",
      "text/plain": [
       "<Figure size 714x360 with 1 Axes>"
      ]
     },
     "metadata": {
      "needs_background": "light"
     },
     "output_type": "display_data"
    }
   ],
   "source": [
    "g = sns.catplot('SEX', data = data1, hue= 'Generation', kind='count', aspect=1.75) \n",
    "g.set_xlabels('SEX')"
   ]
  },
  {
   "cell_type": "code",
   "execution_count": 38,
   "metadata": {},
   "outputs": [
    {
     "data": {
      "text/plain": [
       "SEX     EDUCATION      \n",
       "female  graduate school    6231\n",
       "        high school        2927\n",
       "        other               298\n",
       "        university         8656\n",
       "male    graduate school    4354\n",
       "        high school        1990\n",
       "        other               170\n",
       "        university         5374\n",
       "Name: SEX, dtype: int64"
      ]
     },
     "execution_count": 38,
     "metadata": {},
     "output_type": "execute_result"
    }
   ],
   "source": [
    "data1.groupby(['SEX', 'EDUCATION'])['SEX'].count()"
   ]
  },
  {
   "cell_type": "code",
   "execution_count": 39,
   "metadata": {},
   "outputs": [
    {
     "data": {
      "text/plain": [
       "<seaborn.axisgrid.FacetGrid at 0x1a530fdb730>"
      ]
     },
     "execution_count": 39,
     "metadata": {},
     "output_type": "execute_result"
    },
    {
     "data": {
      "image/png": "[encoded data removed]",
      "text/plain": [
       "<Figure size 746.625x360 with 1 Axes>"
      ]
     },
     "metadata": {
      "needs_background": "light"
     },
     "output_type": "display_data"
    }
   ],
   "source": [
    "g = sns.catplot('SEX', data = data1, hue= 'EDUCATION', kind='count', aspect=1.75) \n",
    "g.set_xlabels('SEX')"
   ]
  },
  {
   "cell_type": "code",
   "execution_count": 40,
   "metadata": {},
   "outputs": [
    {
     "data": {
      "text/plain": [
       "TYPE         EDUCATION      \n",
       "default      graduate school     2036\n",
       "             high school         1237\n",
       "             other                 33\n",
       "             university          3330\n",
       "not default  graduate school     8549\n",
       "             high school         3680\n",
       "             other                435\n",
       "             university         10700\n",
       "Name: TYPE, dtype: int64"
      ]
     },
     "execution_count": 40,
     "metadata": {},
     "output_type": "execute_result"
    }
   ],
   "source": [
    "data1.groupby(['TYPE', 'EDUCATION'])['TYPE'].count()"
   ]
  },
  {
   "cell_type": "code",
   "execution_count": 41,
   "metadata": {},
   "outputs": [
    {
     "data": {
      "text/plain": [
       "<seaborn.axisgrid.FacetGrid at 0x1a530f9cc70>"
      ]
     },
     "execution_count": 41,
     "metadata": {},
     "output_type": "execute_result"
    },
    {
     "data": {
      "image/png": "[encoded data removed]",
      "text/plain": [
       "<Figure size 746.625x360 with 1 Axes>"
      ]
     },
     "metadata": {
      "needs_background": "light"
     },
     "output_type": "display_data"
    }
   ],
   "source": [
    "g = sns.catplot('TYPE', data = data1, hue= 'EDUCATION', kind='count', aspect=1.75) \n",
    "g.set_xlabels('TYPE')"
   ]
  },
  {
   "cell_type": "code",
   "execution_count": 42,
   "metadata": {},
   "outputs": [
    {
     "data": {
      "text/plain": [
       "TYPE         MARRIAGE\n",
       "default      0               5\n",
       "             1            3206\n",
       "             2            3341\n",
       "             3              84\n",
       "not default  0              49\n",
       "             1           10453\n",
       "             2           12623\n",
       "             3             239\n",
       "Name: TYPE, dtype: int64"
      ]
     },
     "execution_count": 42,
     "metadata": {},
     "output_type": "execute_result"
    }
   ],
   "source": [
    "data1.groupby(['TYPE', 'MARRIAGE'])['TYPE'].count()"
   ]
  },
  {
   "cell_type": "code",
   "execution_count": 43,
   "metadata": {},
   "outputs": [
    {
     "data": {
      "text/plain": [
       "<seaborn.axisgrid.FacetGrid at 0x1a531117dc0>"
      ]
     },
     "execution_count": 43,
     "metadata": {},
     "output_type": "execute_result"
    },
    {
     "data": {
      "image/png": "[encoded data removed]",
      "text/plain": [
       "<Figure size 691x360 with 1 Axes>"
      ]
     },
     "metadata": {
      "needs_background": "light"
     },
     "output_type": "display_data"
    }
   ],
   "source": [
    "g = sns.catplot('TYPE', data = data1, hue= 'MARRIAGE', kind='count', aspect=1.75) \n",
    "g.set_xlabels('TYPE')"
   ]
  },
  {
   "cell_type": "code",
   "execution_count": 44,
   "metadata": {},
   "outputs": [
    {
     "data": {
      "image/png": "[encoded data removed]",
      "text/plain": [
       "<Figure size 432x288 with 1 Axes>"
      ]
     },
     "metadata": {
      "needs_background": "light"
     },
     "output_type": "display_data"
    }
   ],
   "source": [
    "sns.stripplot(data1.EDUCATION, data1.LIMIT_BAL, jitter=True)\n",
    "plt.title('EDUCATION VS LIMIT')\n",
    "plt.xlabel('EDUCATION')\n",
    "plt.ylabel('LIMIT')\n",
    "plt.show()"
   ]
  },
  {
   "cell_type": "code",
   "execution_count": 45,
   "metadata": {},
   "outputs": [
    {
     "name": "stdout",
     "output_type": "stream",
     "text": [
      "<class 'pandas.core.frame.DataFrame'>\n",
      "Int64Index: 30000 entries, 0 to 29999\n",
      "Data columns (total 15 columns):\n",
      " #   Column      Non-Null Count  Dtype   \n",
      "---  ------      --------------  -----   \n",
      " 0   LIMIT_BAL   30000 non-null  int64   \n",
      " 1   SEX         30000 non-null  object  \n",
      " 2   EDUCATION   30000 non-null  object  \n",
      " 3   MARRIAGE    30000 non-null  int64   \n",
      " 4   AGE         30000 non-null  int64   \n",
      " 5   TYPE        30000 non-null  object  \n",
      " 6   TYPE2       30000 non-null  int64   \n",
      " 7   PAY_0       30000 non-null  int64   \n",
      " 8   PAY_2       30000 non-null  int64   \n",
      " 9   PAY_3       30000 non-null  int64   \n",
      " 10  PAY_4       30000 non-null  int64   \n",
      " 11  PAY_5       30000 non-null  int64   \n",
      " 12  PAY_6       30000 non-null  int64   \n",
      " 13  Generation  30000 non-null  category\n",
      " 14  LIMIT_BIN   30000 non-null  category\n",
      "dtypes: category(2), int64(10), object(3)\n",
      "memory usage: 4.5+ MB\n"
     ]
    }
   ],
   "source": [
    "data1.info()"
   ]
  },
  {
   "cell_type": "code",
   "execution_count": 46,
   "metadata": {},
   "outputs": [
    {
     "data": {
      "text/plain": [
       "LIMIT_BAL        int64\n",
       "SEX             object\n",
       "EDUCATION       object\n",
       "MARRIAGE         int64\n",
       "AGE              int64\n",
       "TYPE            object\n",
       "TYPE2            int64\n",
       "PAY_0            int64\n",
       "PAY_2            int64\n",
       "PAY_3            int64\n",
       "PAY_4            int64\n",
       "PAY_5            int64\n",
       "PAY_6            int64\n",
       "Generation    category\n",
       "LIMIT_BIN     category\n",
       "dtype: object"
      ]
     },
     "execution_count": 46,
     "metadata": {},
     "output_type": "execute_result"
    }
   ],
   "source": [
    "data1.dtypes"
   ]
  },
  {
   "cell_type": "code",
   "execution_count": 47,
   "metadata": {},
   "outputs": [
    {
     "data": {
      "text/plain": [
       "LabelEncoder()"
      ]
     },
     "execution_count": 47,
     "metadata": {},
     "output_type": "execute_result"
    }
   ],
   "source": [
    "#label encoding\n",
    "le = LabelEncoder()\n",
    "le.fit(data1['SEX'])\n"
   ]
  },
  {
   "cell_type": "code",
   "execution_count": 48,
   "metadata": {},
   "outputs": [],
   "source": [
    "data1['SEX'] = le.transform(data1['SEX'])"
   ]
  },
  {
   "cell_type": "code",
   "execution_count": 49,
   "metadata": {},
   "outputs": [
    {
     "data": {
      "text/plain": [
       "LIMIT_BAL        int64\n",
       "SEX              int32\n",
       "EDUCATION       object\n",
       "MARRIAGE         int64\n",
       "AGE              int64\n",
       "TYPE            object\n",
       "TYPE2            int64\n",
       "PAY_0            int64\n",
       "PAY_2            int64\n",
       "PAY_3            int64\n",
       "PAY_4            int64\n",
       "PAY_5            int64\n",
       "PAY_6            int64\n",
       "Generation    category\n",
       "LIMIT_BIN     category\n",
       "dtype: object"
      ]
     },
     "execution_count": 49,
     "metadata": {},
     "output_type": "execute_result"
    }
   ],
   "source": [
    "data1.dtypes"
   ]
  },
  {
   "cell_type": "code",
   "execution_count": 50,
   "metadata": {},
   "outputs": [
    {
     "data": {
      "text/html": [
       "<div>\n",
       "<style scoped>\n",
       "    .dataframe tbody tr th:only-of-type {\n",
       "        vertical-align: middle;\n",
       "    }\n",
       "\n",
       "    .dataframe tbody tr th {\n",
       "        vertical-align: top;\n",
       "    }\n",
       "\n",
       "    .dataframe thead th {\n",
       "        text-align: right;\n",
       "    }\n",
       "</style>\n",
       "<table border=\"1\" class=\"dataframe\">\n",
       "  <thead>\n",
       "    <tr style=\"text-align: right;\">\n",
       "      <th></th>\n",
       "      <th>LIMIT_BAL</th>\n",
       "      <th>SEX</th>\n",
       "      <th>MARRIAGE</th>\n",
       "      <th>AGE</th>\n",
       "      <th>TYPE2</th>\n",
       "      <th>PAY_0</th>\n",
       "      <th>PAY_2</th>\n",
       "      <th>PAY_3</th>\n",
       "      <th>PAY_4</th>\n",
       "      <th>PAY_5</th>\n",
       "      <th>...</th>\n",
       "      <th>Generation_Boomer</th>\n",
       "      <th>LIMIT_BIN_0-50k</th>\n",
       "      <th>LIMIT_BIN_50k-100k</th>\n",
       "      <th>LIMIT_BIN_100k-150k</th>\n",
       "      <th>LIMIT_BIN_150k-200k</th>\n",
       "      <th>LIMIT_BIN_200k-250k</th>\n",
       "      <th>LIMIT_BIN_250-300k</th>\n",
       "      <th>LIMIT_BIN_300k-350k</th>\n",
       "      <th>LIMIT_BIN_350k-400k</th>\n",
       "      <th>LIMIT_BIN_400k-1000k</th>\n",
       "    </tr>\n",
       "  </thead>\n",
       "  <tbody>\n",
       "    <tr>\n",
       "      <th>0</th>\n",
       "      <td>20000</td>\n",
       "      <td>0</td>\n",
       "      <td>1</td>\n",
       "      <td>24</td>\n",
       "      <td>1</td>\n",
       "      <td>2</td>\n",
       "      <td>2</td>\n",
       "      <td>-1</td>\n",
       "      <td>-1</td>\n",
       "      <td>-2</td>\n",
       "      <td>...</td>\n",
       "      <td>0</td>\n",
       "      <td>1</td>\n",
       "      <td>0</td>\n",
       "      <td>0</td>\n",
       "      <td>0</td>\n",
       "      <td>0</td>\n",
       "      <td>0</td>\n",
       "      <td>0</td>\n",
       "      <td>0</td>\n",
       "      <td>0</td>\n",
       "    </tr>\n",
       "    <tr>\n",
       "      <th>1</th>\n",
       "      <td>120000</td>\n",
       "      <td>0</td>\n",
       "      <td>2</td>\n",
       "      <td>26</td>\n",
       "      <td>1</td>\n",
       "      <td>-1</td>\n",
       "      <td>2</td>\n",
       "      <td>0</td>\n",
       "      <td>0</td>\n",
       "      <td>0</td>\n",
       "      <td>...</td>\n",
       "      <td>0</td>\n",
       "      <td>0</td>\n",
       "      <td>0</td>\n",
       "      <td>1</td>\n",
       "      <td>0</td>\n",
       "      <td>0</td>\n",
       "      <td>0</td>\n",
       "      <td>0</td>\n",
       "      <td>0</td>\n",
       "      <td>0</td>\n",
       "    </tr>\n",
       "    <tr>\n",
       "      <th>2</th>\n",
       "      <td>90000</td>\n",
       "      <td>0</td>\n",
       "      <td>2</td>\n",
       "      <td>34</td>\n",
       "      <td>0</td>\n",
       "      <td>0</td>\n",
       "      <td>0</td>\n",
       "      <td>0</td>\n",
       "      <td>0</td>\n",
       "      <td>0</td>\n",
       "      <td>...</td>\n",
       "      <td>0</td>\n",
       "      <td>0</td>\n",
       "      <td>1</td>\n",
       "      <td>0</td>\n",
       "      <td>0</td>\n",
       "      <td>0</td>\n",
       "      <td>0</td>\n",
       "      <td>0</td>\n",
       "      <td>0</td>\n",
       "      <td>0</td>\n",
       "    </tr>\n",
       "    <tr>\n",
       "      <th>3</th>\n",
       "      <td>50000</td>\n",
       "      <td>0</td>\n",
       "      <td>1</td>\n",
       "      <td>37</td>\n",
       "      <td>0</td>\n",
       "      <td>0</td>\n",
       "      <td>0</td>\n",
       "      <td>0</td>\n",
       "      <td>0</td>\n",
       "      <td>0</td>\n",
       "      <td>...</td>\n",
       "      <td>0</td>\n",
       "      <td>1</td>\n",
       "      <td>0</td>\n",
       "      <td>0</td>\n",
       "      <td>0</td>\n",
       "      <td>0</td>\n",
       "      <td>0</td>\n",
       "      <td>0</td>\n",
       "      <td>0</td>\n",
       "      <td>0</td>\n",
       "    </tr>\n",
       "    <tr>\n",
       "      <th>4</th>\n",
       "      <td>50000</td>\n",
       "      <td>1</td>\n",
       "      <td>1</td>\n",
       "      <td>57</td>\n",
       "      <td>0</td>\n",
       "      <td>-1</td>\n",
       "      <td>0</td>\n",
       "      <td>-1</td>\n",
       "      <td>0</td>\n",
       "      <td>0</td>\n",
       "      <td>...</td>\n",
       "      <td>1</td>\n",
       "      <td>1</td>\n",
       "      <td>0</td>\n",
       "      <td>0</td>\n",
       "      <td>0</td>\n",
       "      <td>0</td>\n",
       "      <td>0</td>\n",
       "      <td>0</td>\n",
       "      <td>0</td>\n",
       "      <td>0</td>\n",
       "    </tr>\n",
       "  </tbody>\n",
       "</table>\n",
       "<p>5 rows × 30 columns</p>\n",
       "</div>"
      ],
      "text/plain": [
       "   LIMIT_BAL  SEX  MARRIAGE  AGE  TYPE2  PAY_0  PAY_2  PAY_3  PAY_4  PAY_5  \\\n",
       "0      20000    0         1   24      1      2      2     -1     -1     -2   \n",
       "1     120000    0         2   26      1     -1      2      0      0      0   \n",
       "2      90000    0         2   34      0      0      0      0      0      0   \n",
       "3      50000    0         1   37      0      0      0      0      0      0   \n",
       "4      50000    1         1   57      0     -1      0     -1      0      0   \n",
       "\n",
       "   ...  Generation_Boomer  LIMIT_BIN_0-50k  LIMIT_BIN_50k-100k  \\\n",
       "0  ...                  0                1                   0   \n",
       "1  ...                  0                0                   0   \n",
       "2  ...                  0                0                   1   \n",
       "3  ...                  0                1                   0   \n",
       "4  ...                  1                1                   0   \n",
       "\n",
       "   LIMIT_BIN_100k-150k  LIMIT_BIN_150k-200k  LIMIT_BIN_200k-250k  \\\n",
       "0                    0                    0                    0   \n",
       "1                    1                    0                    0   \n",
       "2                    0                    0                    0   \n",
       "3                    0                    0                    0   \n",
       "4                    0                    0                    0   \n",
       "\n",
       "   LIMIT_BIN_250-300k  LIMIT_BIN_300k-350k  LIMIT_BIN_350k-400k  \\\n",
       "0                   0                    0                    0   \n",
       "1                   0                    0                    0   \n",
       "2                   0                    0                    0   \n",
       "3                   0                    0                    0   \n",
       "4                   0                    0                    0   \n",
       "\n",
       "   LIMIT_BIN_400k-1000k  \n",
       "0                     0  \n",
       "1                     0  \n",
       "2                     0  \n",
       "3                     0  \n",
       "4                     0  \n",
       "\n",
       "[5 rows x 30 columns]"
      ]
     },
     "execution_count": 50,
     "metadata": {},
     "output_type": "execute_result"
    }
   ],
   "source": [
    "data1 = pd.get_dummies(data1)\n",
    "data1.head()"
   ]
  },
  {
   "cell_type": "code",
   "execution_count": 51,
   "metadata": {},
   "outputs": [
    {
     "name": "stdout",
     "output_type": "stream",
     "text": [
      "<class 'pandas.core.frame.DataFrame'>\n",
      "Int64Index: 30000 entries, 0 to 29999\n",
      "Data columns (total 30 columns):\n",
      " #   Column                     Non-Null Count  Dtype\n",
      "---  ------                     --------------  -----\n",
      " 0   LIMIT_BAL                  30000 non-null  int64\n",
      " 1   SEX                        30000 non-null  int32\n",
      " 2   MARRIAGE                   30000 non-null  int64\n",
      " 3   AGE                        30000 non-null  int64\n",
      " 4   TYPE2                      30000 non-null  int64\n",
      " 5   PAY_0                      30000 non-null  int64\n",
      " 6   PAY_2                      30000 non-null  int64\n",
      " 7   PAY_3                      30000 non-null  int64\n",
      " 8   PAY_4                      30000 non-null  int64\n",
      " 9   PAY_5                      30000 non-null  int64\n",
      " 10  PAY_6                      30000 non-null  int64\n",
      " 11  EDUCATION_graduate school  30000 non-null  uint8\n",
      " 12  EDUCATION_high school      30000 non-null  uint8\n",
      " 13  EDUCATION_other            30000 non-null  uint8\n",
      " 14  EDUCATION_university       30000 non-null  uint8\n",
      " 15  TYPE_default               30000 non-null  uint8\n",
      " 16  TYPE_not default           30000 non-null  uint8\n",
      " 17  Generation_Gen Z           30000 non-null  uint8\n",
      " 18  Generation_Millennial      30000 non-null  uint8\n",
      " 19  Generation_Gen X           30000 non-null  uint8\n",
      " 20  Generation_Boomer          30000 non-null  uint8\n",
      " 21  LIMIT_BIN_0-50k            30000 non-null  uint8\n",
      " 22  LIMIT_BIN_50k-100k         30000 non-null  uint8\n",
      " 23  LIMIT_BIN_100k-150k        30000 non-null  uint8\n",
      " 24  LIMIT_BIN_150k-200k        30000 non-null  uint8\n",
      " 25  LIMIT_BIN_200k-250k        30000 non-null  uint8\n",
      " 26  LIMIT_BIN_250-300k         30000 non-null  uint8\n",
      " 27  LIMIT_BIN_300k-350k        30000 non-null  uint8\n",
      " 28  LIMIT_BIN_350k-400k        30000 non-null  uint8\n",
      " 29  LIMIT_BIN_400k-1000k       30000 non-null  uint8\n",
      "dtypes: int32(1), int64(10), uint8(19)\n",
      "memory usage: 4.4 MB\n"
     ]
    }
   ],
   "source": [
    "data1.info()"
   ]
  },
  {
   "cell_type": "code",
   "execution_count": 52,
   "metadata": {},
   "outputs": [
    {
     "data": {
      "text/html": [
       "<div>\n",
       "<style scoped>\n",
       "    .dataframe tbody tr th:only-of-type {\n",
       "        vertical-align: middle;\n",
       "    }\n",
       "\n",
       "    .dataframe tbody tr th {\n",
       "        vertical-align: top;\n",
       "    }\n",
       "\n",
       "    .dataframe thead th {\n",
       "        text-align: right;\n",
       "    }\n",
       "</style>\n",
       "<table border=\"1\" class=\"dataframe\">\n",
       "  <thead>\n",
       "    <tr style=\"text-align: right;\">\n",
       "      <th></th>\n",
       "      <th>LIMIT_BAL</th>\n",
       "      <th>SEX</th>\n",
       "      <th>MARRIAGE</th>\n",
       "      <th>AGE</th>\n",
       "      <th>TYPE2</th>\n",
       "      <th>PAY_0</th>\n",
       "      <th>PAY_2</th>\n",
       "      <th>PAY_3</th>\n",
       "      <th>PAY_4</th>\n",
       "      <th>PAY_5</th>\n",
       "      <th>...</th>\n",
       "      <th>Generation_Boomer</th>\n",
       "      <th>LIMIT_BIN_0-50k</th>\n",
       "      <th>LIMIT_BIN_50k-100k</th>\n",
       "      <th>LIMIT_BIN_100k-150k</th>\n",
       "      <th>LIMIT_BIN_150k-200k</th>\n",
       "      <th>LIMIT_BIN_200k-250k</th>\n",
       "      <th>LIMIT_BIN_250-300k</th>\n",
       "      <th>LIMIT_BIN_300k-350k</th>\n",
       "      <th>LIMIT_BIN_350k-400k</th>\n",
       "      <th>LIMIT_BIN_400k-1000k</th>\n",
       "    </tr>\n",
       "  </thead>\n",
       "  <tbody>\n",
       "    <tr>\n",
       "      <th>0</th>\n",
       "      <td>20000</td>\n",
       "      <td>0</td>\n",
       "      <td>1</td>\n",
       "      <td>24</td>\n",
       "      <td>1</td>\n",
       "      <td>2</td>\n",
       "      <td>2</td>\n",
       "      <td>-1</td>\n",
       "      <td>-1</td>\n",
       "      <td>-2</td>\n",
       "      <td>...</td>\n",
       "      <td>0</td>\n",
       "      <td>1</td>\n",
       "      <td>0</td>\n",
       "      <td>0</td>\n",
       "      <td>0</td>\n",
       "      <td>0</td>\n",
       "      <td>0</td>\n",
       "      <td>0</td>\n",
       "      <td>0</td>\n",
       "      <td>0</td>\n",
       "    </tr>\n",
       "    <tr>\n",
       "      <th>1</th>\n",
       "      <td>120000</td>\n",
       "      <td>0</td>\n",
       "      <td>2</td>\n",
       "      <td>26</td>\n",
       "      <td>1</td>\n",
       "      <td>-1</td>\n",
       "      <td>2</td>\n",
       "      <td>0</td>\n",
       "      <td>0</td>\n",
       "      <td>0</td>\n",
       "      <td>...</td>\n",
       "      <td>0</td>\n",
       "      <td>0</td>\n",
       "      <td>0</td>\n",
       "      <td>1</td>\n",
       "      <td>0</td>\n",
       "      <td>0</td>\n",
       "      <td>0</td>\n",
       "      <td>0</td>\n",
       "      <td>0</td>\n",
       "      <td>0</td>\n",
       "    </tr>\n",
       "    <tr>\n",
       "      <th>2</th>\n",
       "      <td>90000</td>\n",
       "      <td>0</td>\n",
       "      <td>2</td>\n",
       "      <td>34</td>\n",
       "      <td>0</td>\n",
       "      <td>0</td>\n",
       "      <td>0</td>\n",
       "      <td>0</td>\n",
       "      <td>0</td>\n",
       "      <td>0</td>\n",
       "      <td>...</td>\n",
       "      <td>0</td>\n",
       "      <td>0</td>\n",
       "      <td>1</td>\n",
       "      <td>0</td>\n",
       "      <td>0</td>\n",
       "      <td>0</td>\n",
       "      <td>0</td>\n",
       "      <td>0</td>\n",
       "      <td>0</td>\n",
       "      <td>0</td>\n",
       "    </tr>\n",
       "    <tr>\n",
       "      <th>3</th>\n",
       "      <td>50000</td>\n",
       "      <td>0</td>\n",
       "      <td>1</td>\n",
       "      <td>37</td>\n",
       "      <td>0</td>\n",
       "      <td>0</td>\n",
       "      <td>0</td>\n",
       "      <td>0</td>\n",
       "      <td>0</td>\n",
       "      <td>0</td>\n",
       "      <td>...</td>\n",
       "      <td>0</td>\n",
       "      <td>1</td>\n",
       "      <td>0</td>\n",
       "      <td>0</td>\n",
       "      <td>0</td>\n",
       "      <td>0</td>\n",
       "      <td>0</td>\n",
       "      <td>0</td>\n",
       "      <td>0</td>\n",
       "      <td>0</td>\n",
       "    </tr>\n",
       "    <tr>\n",
       "      <th>4</th>\n",
       "      <td>50000</td>\n",
       "      <td>1</td>\n",
       "      <td>1</td>\n",
       "      <td>57</td>\n",
       "      <td>0</td>\n",
       "      <td>-1</td>\n",
       "      <td>0</td>\n",
       "      <td>-1</td>\n",
       "      <td>0</td>\n",
       "      <td>0</td>\n",
       "      <td>...</td>\n",
       "      <td>1</td>\n",
       "      <td>1</td>\n",
       "      <td>0</td>\n",
       "      <td>0</td>\n",
       "      <td>0</td>\n",
       "      <td>0</td>\n",
       "      <td>0</td>\n",
       "      <td>0</td>\n",
       "      <td>0</td>\n",
       "      <td>0</td>\n",
       "    </tr>\n",
       "  </tbody>\n",
       "</table>\n",
       "<p>5 rows × 30 columns</p>\n",
       "</div>"
      ],
      "text/plain": [
       "   LIMIT_BAL  SEX  MARRIAGE  AGE  TYPE2  PAY_0  PAY_2  PAY_3  PAY_4  PAY_5  \\\n",
       "0      20000    0         1   24      1      2      2     -1     -1     -2   \n",
       "1     120000    0         2   26      1     -1      2      0      0      0   \n",
       "2      90000    0         2   34      0      0      0      0      0      0   \n",
       "3      50000    0         1   37      0      0      0      0      0      0   \n",
       "4      50000    1         1   57      0     -1      0     -1      0      0   \n",
       "\n",
       "   ...  Generation_Boomer  LIMIT_BIN_0-50k  LIMIT_BIN_50k-100k  \\\n",
       "0  ...                  0                1                   0   \n",
       "1  ...                  0                0                   0   \n",
       "2  ...                  0                0                   1   \n",
       "3  ...                  0                1                   0   \n",
       "4  ...                  1                1                   0   \n",
       "\n",
       "   LIMIT_BIN_100k-150k  LIMIT_BIN_150k-200k  LIMIT_BIN_200k-250k  \\\n",
       "0                    0                    0                    0   \n",
       "1                    1                    0                    0   \n",
       "2                    0                    0                    0   \n",
       "3                    0                    0                    0   \n",
       "4                    0                    0                    0   \n",
       "\n",
       "   LIMIT_BIN_250-300k  LIMIT_BIN_300k-350k  LIMIT_BIN_350k-400k  \\\n",
       "0                   0                    0                    0   \n",
       "1                   0                    0                    0   \n",
       "2                   0                    0                    0   \n",
       "3                   0                    0                    0   \n",
       "4                   0                    0                    0   \n",
       "\n",
       "   LIMIT_BIN_400k-1000k  \n",
       "0                     0  \n",
       "1                     0  \n",
       "2                     0  \n",
       "3                     0  \n",
       "4                     0  \n",
       "\n",
       "[5 rows x 30 columns]"
      ]
     },
     "execution_count": 52,
     "metadata": {},
     "output_type": "execute_result"
    }
   ],
   "source": [
    "data1.head()"
   ]
  },
  {
   "cell_type": "code",
   "execution_count": 53,
   "metadata": {},
   "outputs": [
    {
     "name": "stdout",
     "output_type": "stream",
     "text": [
      "Index(['LIMIT_BAL', 'SEX', 'MARRIAGE', 'AGE', 'TYPE2', 'PAY_0', 'PAY_2',\n",
      "       'PAY_3', 'PAY_4', 'PAY_5', 'PAY_6', 'EDUCATION_graduate school',\n",
      "       'EDUCATION_high school', 'EDUCATION_other', 'EDUCATION_university',\n",
      "       'TYPE_default', 'TYPE_not default', 'Generation_Gen Z',\n",
      "       'Generation_Millennial', 'Generation_Gen X', 'Generation_Boomer',\n",
      "       'LIMIT_BIN_0-50k', 'LIMIT_BIN_50k-100k', 'LIMIT_BIN_100k-150k',\n",
      "       'LIMIT_BIN_150k-200k', 'LIMIT_BIN_200k-250k', 'LIMIT_BIN_250-300k',\n",
      "       'LIMIT_BIN_300k-350k', 'LIMIT_BIN_350k-400k', 'LIMIT_BIN_400k-1000k'],\n",
      "      dtype='object')\n"
     ]
    }
   ],
   "source": [
    "header = data1.dtypes.index\n",
    "print(header)"
   ]
  },
  {
   "cell_type": "code",
   "execution_count": 54,
   "metadata": {},
   "outputs": [
    {
     "data": {
      "text/plain": [
       "<seaborn.axisgrid.FacetGrid at 0x1a52f4ff280>"
      ]
     },
     "execution_count": 54,
     "metadata": {},
     "output_type": "execute_result"
    },
    {
     "data": {
      "image/png": "[encoded data removed]",
      "text/plain": [
       "<Figure size 719.375x360 with 1 Axes>"
      ]
     },
     "metadata": {
      "needs_background": "light"
     },
     "output_type": "display_data"
    }
   ],
   "source": [
    "g = sns.catplot('SEX', data = data1, hue= 'LIMIT_BIN_0-50k', kind='count', aspect=1.75) \n",
    "g.set_xlabels('SEX')"
   ]
  },
  {
   "cell_type": "code",
   "execution_count": 55,
   "metadata": {},
   "outputs": [],
   "source": [
    "#STRIP PLOT"
   ]
  },
  {
   "cell_type": "code",
   "execution_count": 56,
   "metadata": {},
   "outputs": [
    {
     "data": {
      "image/png": "[encoded data removed]",
      "text/plain": [
       "<Figure size 432x288 with 1 Axes>"
      ]
     },
     "metadata": {
      "needs_background": "light"
     },
     "output_type": "display_data"
    }
   ],
   "source": [
    "sns.stripplot(data1.MARRIAGE, data1.LIMIT_BAL, jitter=True)\n",
    "plt.title('MARRIAGE VS LIMIT')\n",
    "plt.xlabel('MARRIAGE')\n",
    "plt.ylabel('LIMIT')\n",
    "plt.show()"
   ]
  },
  {
   "cell_type": "code",
   "execution_count": 57,
   "metadata": {},
   "outputs": [
    {
     "data": {
      "image/png": "[encoded data removed]",
      "text/plain": [
       "<Figure size 432x288 with 1 Axes>"
      ]
     },
     "metadata": {
      "needs_background": "light"
     },
     "output_type": "display_data"
    }
   ],
   "source": [
    "sns.stripplot(data1.TYPE_default, data1.LIMIT_BAL, jitter=True)\n",
    "plt.title('TYPE_default VS LIMIT')\n",
    "plt.xlabel('Default')\n",
    "plt.ylabel('LIMIT')\n",
    "plt.show()"
   ]
  },
  {
   "cell_type": "code",
   "execution_count": 58,
   "metadata": {},
   "outputs": [],
   "source": [
    "#HISTOGRAMS"
   ]
  },
  {
   "cell_type": "code",
   "execution_count": 59,
   "metadata": {},
   "outputs": [
    {
     "name": "stdout",
     "output_type": "stream",
     "text": [
      "Index(['LIMIT_BAL', 'SEX', 'MARRIAGE', 'AGE', 'TYPE2', 'PAY_0', 'PAY_2',\n",
      "       'PAY_3', 'PAY_4', 'PAY_5', 'PAY_6', 'EDUCATION_graduate school',\n",
      "       'EDUCATION_high school', 'EDUCATION_other', 'EDUCATION_university',\n",
      "       'TYPE_default', 'TYPE_not default', 'Generation_Gen Z',\n",
      "       'Generation_Millennial', 'Generation_Gen X', 'Generation_Boomer',\n",
      "       'LIMIT_BIN_0-50k', 'LIMIT_BIN_50k-100k', 'LIMIT_BIN_100k-150k',\n",
      "       'LIMIT_BIN_150k-200k', 'LIMIT_BIN_200k-250k', 'LIMIT_BIN_250-300k',\n",
      "       'LIMIT_BIN_300k-350k', 'LIMIT_BIN_350k-400k', 'LIMIT_BIN_400k-1000k'],\n",
      "      dtype='object')\n"
     ]
    }
   ],
   "source": [
    "header = data1.dtypes.index\n",
    "print(header)"
   ]
  },
  {
   "cell_type": "code",
   "execution_count": 60,
   "metadata": {},
   "outputs": [
    {
     "data": {
      "image/png": "[encoded data removed]",
      "text/plain": [
       "<Figure size 432x288 with 1 Axes>"
      ]
     },
     "metadata": {
      "needs_background": "light"
     },
     "output_type": "display_data"
    }
   ],
   "source": [
    "plt.hist(data.LIMIT_BAL, bins=8)\n",
    "plt.show()"
   ]
  },
  {
   "cell_type": "code",
   "execution_count": 61,
   "metadata": {},
   "outputs": [
    {
     "data": {
      "image/png": "[encoded data removed]",
      "text/plain": [
       "<Figure size 432x288 with 1 Axes>"
      ]
     },
     "metadata": {
      "needs_background": "light"
     },
     "output_type": "display_data"
    }
   ],
   "source": [
    "plt.hist(data1.AGE, bins=8)\n",
    "plt.show()"
   ]
  },
  {
   "cell_type": "code",
   "execution_count": 62,
   "metadata": {},
   "outputs": [
    {
     "data": {
      "image/png": "[encoded data removed]",
      "text/plain": [
       "<Figure size 432x288 with 1 Axes>"
      ]
     },
     "metadata": {
      "needs_background": "light"
     },
     "output_type": "display_data"
    }
   ],
   "source": [
    "plt.hist(data1.MARRIAGE, bins=8)\n",
    "plt.show()"
   ]
  },
  {
   "cell_type": "code",
   "execution_count": 63,
   "metadata": {},
   "outputs": [
    {
     "data": {
      "image/png": "[encoded data removed]",
      "text/plain": [
       "<Figure size 432x288 with 1 Axes>"
      ]
     },
     "metadata": {
      "needs_background": "light"
     },
     "output_type": "display_data"
    }
   ],
   "source": [
    "plt.hist(data.EDUCATION, bins=8)\n",
    "plt.show()"
   ]
  },
  {
   "cell_type": "code",
   "execution_count": 64,
   "metadata": {},
   "outputs": [
    {
     "data": {
      "image/png": "[encoded data removed]",
      "text/plain": [
       "<Figure size 432x288 with 1 Axes>"
      ]
     },
     "metadata": {
      "needs_background": "light"
     },
     "output_type": "display_data"
    }
   ],
   "source": [
    "plt.hist(data.SEX, bins=8)\n",
    "plt.show()"
   ]
  },
  {
   "cell_type": "code",
   "execution_count": 65,
   "metadata": {},
   "outputs": [],
   "source": [
    "#LINE PLOTS"
   ]
  },
  {
   "cell_type": "code",
   "execution_count": 66,
   "metadata": {},
   "outputs": [
    {
     "name": "stdout",
     "output_type": "stream",
     "text": [
      "Index(['LIMIT_BAL', 'SEX', 'MARRIAGE', 'AGE', 'TYPE2', 'PAY_0', 'PAY_2',\n",
      "       'PAY_3', 'PAY_4', 'PAY_5', 'PAY_6', 'EDUCATION_graduate school',\n",
      "       'EDUCATION_high school', 'EDUCATION_other', 'EDUCATION_university',\n",
      "       'TYPE_default', 'TYPE_not default', 'Generation_Gen Z',\n",
      "       'Generation_Millennial', 'Generation_Gen X', 'Generation_Boomer',\n",
      "       'LIMIT_BIN_0-50k', 'LIMIT_BIN_50k-100k', 'LIMIT_BIN_100k-150k',\n",
      "       'LIMIT_BIN_150k-200k', 'LIMIT_BIN_200k-250k', 'LIMIT_BIN_250-300k',\n",
      "       'LIMIT_BIN_300k-350k', 'LIMIT_BIN_350k-400k', 'LIMIT_BIN_400k-1000k'],\n",
      "      dtype='object')\n"
     ]
    }
   ],
   "source": [
    "header = data1.dtypes.index\n",
    "print(header)"
   ]
  },
  {
   "cell_type": "code",
   "execution_count": 67,
   "metadata": {},
   "outputs": [
    {
     "data": {
      "image/png": "[encoded data removed]",
      "text/plain": [
       "<Figure size 432x288 with 1 Axes>"
      ]
     },
     "metadata": {
      "needs_background": "light"
     },
     "output_type": "display_data"
    }
   ],
   "source": [
    "plt.plot(data1['LIMIT_BAL'])\n",
    "plt.show()"
   ]
  },
  {
   "cell_type": "code",
   "execution_count": 68,
   "metadata": {},
   "outputs": [],
   "source": [
    "#Scatter Plot"
   ]
  },
  {
   "cell_type": "code",
   "execution_count": 69,
   "metadata": {},
   "outputs": [
    {
     "data": {
      "image/png": "[encoded data removed]",
      "text/plain": [
       "<Figure size 432x288 with 1 Axes>"
      ]
     },
     "metadata": {
      "needs_background": "light"
     },
     "output_type": "display_data"
    }
   ],
   "source": [
    "plt.scatter(data1.PAY_0,data1.PAY_2)\n",
    "plt.title(\"Pay Compare\")\n",
    "plt.xlabel(\"PAY 0\")\n",
    "plt.ylabel(\"PAY 2\")\n",
    "plt.show()"
   ]
  },
  {
   "cell_type": "code",
   "execution_count": 70,
   "metadata": {},
   "outputs": [
    {
     "data": {
      "image/png": "[encoded data removed]",
      "text/plain": [
       "<Figure size 432x288 with 1 Axes>"
      ]
     },
     "metadata": {
      "needs_background": "light"
     },
     "output_type": "display_data"
    }
   ],
   "source": [
    "plt.scatter(data1.AGE,data1.LIMIT_BAL)\n",
    "plt.title(\"CREDIT LIMIT BY AGE\")\n",
    "plt.xlabel(\"AGE\")\n",
    "plt.ylabel(\"CREDIT LIMIT\")\n",
    "plt.show()"
   ]
  },
  {
   "cell_type": "code",
   "execution_count": 71,
   "metadata": {},
   "outputs": [
    {
     "data": {
      "image/png": "[encoded data removed]",
      "text/plain": [
       "<Figure size 432x288 with 1 Axes>"
      ]
     },
     "metadata": {
      "needs_background": "light"
     },
     "output_type": "display_data"
    }
   ],
   "source": [
    "plt.scatter(data1.MARRIAGE,data1.LIMIT_BAL)\n",
    "plt.title(\"MARRRIAGE LIMIT COMPARE\")\n",
    "plt.xlabel(\"STATUS\")\n",
    "plt.ylabel(\"CREDIT LIMIT\")\n",
    "plt.show()"
   ]
  },
  {
   "cell_type": "code",
   "execution_count": 72,
   "metadata": {},
   "outputs": [
    {
     "data": {
      "image/png": "[encoded data removed]",
      "text/plain": [
       "<Figure size 432x288 with 1 Axes>"
      ]
     },
     "metadata": {
      "needs_background": "light"
     },
     "output_type": "display_data"
    }
   ],
   "source": [
    "plt.scatter(data1.MARRIAGE,data1.AGE)\n",
    "plt.title(\"MARRIAGE AGE COMPARE\")\n",
    "plt.xlabel(\"STATUS\")\n",
    "plt.ylabel(\"AGE\")\n",
    "plt.show()"
   ]
  },
  {
   "cell_type": "code",
   "execution_count": 73,
   "metadata": {},
   "outputs": [],
   "source": [
    "#BOX PLOT"
   ]
  },
  {
   "cell_type": "code",
   "execution_count": 74,
   "metadata": {},
   "outputs": [
    {
     "data": {
      "image/png": "[encoded data removed]",
      "text/plain": [
       "<Figure size 432x288 with 1 Axes>"
      ]
     },
     "metadata": {
      "needs_background": "light"
     },
     "output_type": "display_data"
    }
   ],
   "source": [
    "plt.boxplot(data1.LIMIT_BAL,0,'gD')\n",
    "plt.ylabel(\"CREDIT LIMIT\")\n",
    "plt.show()"
   ]
  },
  {
   "cell_type": "code",
   "execution_count": 75,
   "metadata": {},
   "outputs": [
    {
     "data": {
      "image/png": "[encoded data removed]",
      "text/plain": [
       "<Figure size 432x288 with 1 Axes>"
      ]
     },
     "metadata": {
      "needs_background": "light"
     },
     "output_type": "display_data"
    }
   ],
   "source": [
    "plt.boxplot(data1.LIMIT_BAL, vert=False)\n",
    "plt.xlabel('CREDIT LIMIT')\n",
    "plt.ylabel('POPULATION')\n",
    "plt.show()"
   ]
  },
  {
   "cell_type": "code",
   "execution_count": 76,
   "metadata": {},
   "outputs": [
    {
     "data": {
      "image/png": "[encoded data removed]",
      "text/plain": [
       "<Figure size 432x288 with 1 Axes>"
      ]
     },
     "metadata": {
      "needs_background": "light"
     },
     "output_type": "display_data"
    }
   ],
   "source": [
    "plt.boxplot(data1.AGE, vert=False)\n",
    "plt.xlabel('Age')\n",
    "plt.show()"
   ]
  },
  {
   "cell_type": "code",
   "execution_count": 77,
   "metadata": {},
   "outputs": [
    {
     "data": {
      "text/html": [
       "<div>\n",
       "<style scoped>\n",
       "    .dataframe tbody tr th:only-of-type {\n",
       "        vertical-align: middle;\n",
       "    }\n",
       "\n",
       "    .dataframe tbody tr th {\n",
       "        vertical-align: top;\n",
       "    }\n",
       "\n",
       "    .dataframe thead th {\n",
       "        text-align: right;\n",
       "    }\n",
       "</style>\n",
       "<table border=\"1\" class=\"dataframe\">\n",
       "  <thead>\n",
       "    <tr style=\"text-align: right;\">\n",
       "      <th></th>\n",
       "      <th>LIMIT_BAL</th>\n",
       "      <th>SEX</th>\n",
       "      <th>MARRIAGE</th>\n",
       "      <th>AGE</th>\n",
       "      <th>TYPE2</th>\n",
       "      <th>PAY_0</th>\n",
       "      <th>PAY_2</th>\n",
       "      <th>PAY_3</th>\n",
       "      <th>PAY_4</th>\n",
       "      <th>PAY_5</th>\n",
       "      <th>...</th>\n",
       "      <th>Generation_Boomer</th>\n",
       "      <th>LIMIT_BIN_0-50k</th>\n",
       "      <th>LIMIT_BIN_50k-100k</th>\n",
       "      <th>LIMIT_BIN_100k-150k</th>\n",
       "      <th>LIMIT_BIN_150k-200k</th>\n",
       "      <th>LIMIT_BIN_200k-250k</th>\n",
       "      <th>LIMIT_BIN_250-300k</th>\n",
       "      <th>LIMIT_BIN_300k-350k</th>\n",
       "      <th>LIMIT_BIN_350k-400k</th>\n",
       "      <th>LIMIT_BIN_400k-1000k</th>\n",
       "    </tr>\n",
       "  </thead>\n",
       "  <tbody>\n",
       "    <tr>\n",
       "      <th>0</th>\n",
       "      <td>20000</td>\n",
       "      <td>0</td>\n",
       "      <td>1</td>\n",
       "      <td>24</td>\n",
       "      <td>1</td>\n",
       "      <td>2</td>\n",
       "      <td>2</td>\n",
       "      <td>-1</td>\n",
       "      <td>-1</td>\n",
       "      <td>-2</td>\n",
       "      <td>...</td>\n",
       "      <td>0</td>\n",
       "      <td>1</td>\n",
       "      <td>0</td>\n",
       "      <td>0</td>\n",
       "      <td>0</td>\n",
       "      <td>0</td>\n",
       "      <td>0</td>\n",
       "      <td>0</td>\n",
       "      <td>0</td>\n",
       "      <td>0</td>\n",
       "    </tr>\n",
       "    <tr>\n",
       "      <th>1</th>\n",
       "      <td>120000</td>\n",
       "      <td>0</td>\n",
       "      <td>2</td>\n",
       "      <td>26</td>\n",
       "      <td>1</td>\n",
       "      <td>-1</td>\n",
       "      <td>2</td>\n",
       "      <td>0</td>\n",
       "      <td>0</td>\n",
       "      <td>0</td>\n",
       "      <td>...</td>\n",
       "      <td>0</td>\n",
       "      <td>0</td>\n",
       "      <td>0</td>\n",
       "      <td>1</td>\n",
       "      <td>0</td>\n",
       "      <td>0</td>\n",
       "      <td>0</td>\n",
       "      <td>0</td>\n",
       "      <td>0</td>\n",
       "      <td>0</td>\n",
       "    </tr>\n",
       "    <tr>\n",
       "      <th>2</th>\n",
       "      <td>90000</td>\n",
       "      <td>0</td>\n",
       "      <td>2</td>\n",
       "      <td>34</td>\n",
       "      <td>0</td>\n",
       "      <td>0</td>\n",
       "      <td>0</td>\n",
       "      <td>0</td>\n",
       "      <td>0</td>\n",
       "      <td>0</td>\n",
       "      <td>...</td>\n",
       "      <td>0</td>\n",
       "      <td>0</td>\n",
       "      <td>1</td>\n",
       "      <td>0</td>\n",
       "      <td>0</td>\n",
       "      <td>0</td>\n",
       "      <td>0</td>\n",
       "      <td>0</td>\n",
       "      <td>0</td>\n",
       "      <td>0</td>\n",
       "    </tr>\n",
       "    <tr>\n",
       "      <th>3</th>\n",
       "      <td>50000</td>\n",
       "      <td>0</td>\n",
       "      <td>1</td>\n",
       "      <td>37</td>\n",
       "      <td>0</td>\n",
       "      <td>0</td>\n",
       "      <td>0</td>\n",
       "      <td>0</td>\n",
       "      <td>0</td>\n",
       "      <td>0</td>\n",
       "      <td>...</td>\n",
       "      <td>0</td>\n",
       "      <td>1</td>\n",
       "      <td>0</td>\n",
       "      <td>0</td>\n",
       "      <td>0</td>\n",
       "      <td>0</td>\n",
       "      <td>0</td>\n",
       "      <td>0</td>\n",
       "      <td>0</td>\n",
       "      <td>0</td>\n",
       "    </tr>\n",
       "    <tr>\n",
       "      <th>4</th>\n",
       "      <td>50000</td>\n",
       "      <td>1</td>\n",
       "      <td>1</td>\n",
       "      <td>57</td>\n",
       "      <td>0</td>\n",
       "      <td>-1</td>\n",
       "      <td>0</td>\n",
       "      <td>-1</td>\n",
       "      <td>0</td>\n",
       "      <td>0</td>\n",
       "      <td>...</td>\n",
       "      <td>1</td>\n",
       "      <td>1</td>\n",
       "      <td>0</td>\n",
       "      <td>0</td>\n",
       "      <td>0</td>\n",
       "      <td>0</td>\n",
       "      <td>0</td>\n",
       "      <td>0</td>\n",
       "      <td>0</td>\n",
       "      <td>0</td>\n",
       "    </tr>\n",
       "  </tbody>\n",
       "</table>\n",
       "<p>5 rows × 30 columns</p>\n",
       "</div>"
      ],
      "text/plain": [
       "   LIMIT_BAL  SEX  MARRIAGE  AGE  TYPE2  PAY_0  PAY_2  PAY_3  PAY_4  PAY_5  \\\n",
       "0      20000    0         1   24      1      2      2     -1     -1     -2   \n",
       "1     120000    0         2   26      1     -1      2      0      0      0   \n",
       "2      90000    0         2   34      0      0      0      0      0      0   \n",
       "3      50000    0         1   37      0      0      0      0      0      0   \n",
       "4      50000    1         1   57      0     -1      0     -1      0      0   \n",
       "\n",
       "   ...  Generation_Boomer  LIMIT_BIN_0-50k  LIMIT_BIN_50k-100k  \\\n",
       "0  ...                  0                1                   0   \n",
       "1  ...                  0                0                   0   \n",
       "2  ...                  0                0                   1   \n",
       "3  ...                  0                1                   0   \n",
       "4  ...                  1                1                   0   \n",
       "\n",
       "   LIMIT_BIN_100k-150k  LIMIT_BIN_150k-200k  LIMIT_BIN_200k-250k  \\\n",
       "0                    0                    0                    0   \n",
       "1                    1                    0                    0   \n",
       "2                    0                    0                    0   \n",
       "3                    0                    0                    0   \n",
       "4                    0                    0                    0   \n",
       "\n",
       "   LIMIT_BIN_250-300k  LIMIT_BIN_300k-350k  LIMIT_BIN_350k-400k  \\\n",
       "0                   0                    0                    0   \n",
       "1                   0                    0                    0   \n",
       "2                   0                    0                    0   \n",
       "3                   0                    0                    0   \n",
       "4                   0                    0                    0   \n",
       "\n",
       "   LIMIT_BIN_400k-1000k  \n",
       "0                     0  \n",
       "1                     0  \n",
       "2                     0  \n",
       "3                     0  \n",
       "4                     0  \n",
       "\n",
       "[5 rows x 30 columns]"
      ]
     },
     "execution_count": 77,
     "metadata": {},
     "output_type": "execute_result"
    }
   ],
   "source": [
    "data1.head()"
   ]
  },
  {
   "cell_type": "code",
   "execution_count": 78,
   "metadata": {},
   "outputs": [
    {
     "name": "stdout",
     "output_type": "stream",
     "text": [
      "                           LIMIT_BAL       SEX  MARRIAGE       AGE     TYPE2  \\\n",
      "LIMIT_BAL                   1.000000 -0.024755 -0.108139  0.144713 -0.153520   \n",
      "SEX                        -0.024755  1.000000  0.031389  0.090874  0.039961   \n",
      "MARRIAGE                   -0.108139  0.031389  1.000000 -0.414170 -0.024339   \n",
      "AGE                         0.144713  0.090874 -0.414170  1.000000  0.013890   \n",
      "TYPE2                      -0.153520  0.039961 -0.024339  0.013890  1.000000   \n",
      "PAY_0                      -0.271214  0.057643  0.019917 -0.039447  0.324794   \n",
      "PAY_2                      -0.296382  0.070771  0.024199 -0.050148  0.263551   \n",
      "PAY_3                      -0.286123  0.066096  0.032688 -0.053048  0.235253   \n",
      "PAY_4                      -0.267460  0.060173  0.033122 -0.049722  0.216614   \n",
      "PAY_5                      -0.249411  0.055064  0.035629 -0.053826  0.204149   \n",
      "PAY_6                      -0.235195  0.044008  0.034345 -0.048773  0.186866   \n",
      "EDUCATION_graduate school   0.258777  0.022750  0.142129 -0.100423 -0.051328   \n",
      "EDUCATION_high school      -0.139686  0.007650 -0.110845  0.231252  0.032403   \n",
      "EDUCATION_other             0.013420 -0.008498 -0.008386  0.008982 -0.045703   \n",
      "EDUCATION_university       -0.147530 -0.025353 -0.051797 -0.077626  0.036467   \n",
      "TYPE_default               -0.153520  0.039961 -0.024339  0.013890  1.000000   \n",
      "TYPE_not default            0.153520 -0.039961  0.024339 -0.013890 -1.000000   \n",
      "Generation_Gen Z           -0.278030 -0.075003  0.248356 -0.491095  0.042100   \n",
      "Generation_Millennial       0.185985  0.001886  0.041299 -0.316537 -0.052601   \n",
      "Generation_Gen X            0.018348  0.042327 -0.222658  0.605443  0.018161   \n",
      "Generation_Boomer          -0.005167  0.046560 -0.109349  0.483008  0.020980   \n",
      "LIMIT_BIN_0-50k            -0.597836  0.106712  0.088380 -0.077195  0.136579   \n",
      "LIMIT_BIN_50k-100k         -0.292521 -0.051731  0.015283 -0.050264  0.038785   \n",
      "LIMIT_BIN_100k-150k        -0.103562 -0.031855  0.020621 -0.031751 -0.009102   \n",
      "LIMIT_BIN_150k-200k         0.048056 -0.025992 -0.025671  0.019104 -0.040241   \n",
      "LIMIT_BIN_200k-250k         0.152471 -0.035524 -0.031781  0.029330 -0.044153   \n",
      "LIMIT_BIN_250-300k          0.242943 -0.022058 -0.033327  0.041971 -0.044942   \n",
      "LIMIT_BIN_300k-350k         0.254027 -0.008291 -0.030090  0.037252 -0.044879   \n",
      "LIMIT_BIN_350k-400k         0.369754  0.014026 -0.029415  0.035631 -0.040788   \n",
      "LIMIT_BIN_400k-1000k        0.619237  0.028132 -0.050386  0.090965 -0.061498   \n",
      "\n",
      "                              PAY_0     PAY_2     PAY_3     PAY_4     PAY_5  \\\n",
      "LIMIT_BAL                 -0.271214 -0.296382 -0.286123 -0.267460 -0.249411   \n",
      "SEX                        0.057643  0.070771  0.066096  0.060173  0.055064   \n",
      "MARRIAGE                   0.019917  0.024199  0.032688  0.033122  0.035629   \n",
      "AGE                       -0.039447 -0.050148 -0.053048 -0.049722 -0.053826   \n",
      "TYPE2                      0.324794  0.263551  0.235253  0.216614  0.204149   \n",
      "PAY_0                      1.000000  0.672164  0.574245  0.538841  0.509426   \n",
      "PAY_2                      0.672164  1.000000  0.766552  0.662067  0.622780   \n",
      "PAY_3                      0.574245  0.766552  1.000000  0.777359  0.686775   \n",
      "PAY_4                      0.538841  0.662067  0.777359  1.000000  0.819835   \n",
      "PAY_5                      0.509426  0.622780  0.686775  0.819835  1.000000   \n",
      "PAY_6                      0.474553  0.575501  0.632684  0.716449  0.816900   \n",
      "EDUCATION_graduate school -0.142720 -0.169215 -0.160209 -0.152402 -0.138709   \n",
      "EDUCATION_high school      0.058902  0.064590  0.062461  0.058382  0.049577   \n",
      "EDUCATION_other           -0.024937 -0.033118 -0.034435 -0.030998 -0.028822   \n",
      "EDUCATION_university       0.099177  0.122364  0.115644  0.110340  0.103218   \n",
      "TYPE_default               0.324794  0.263551  0.235253  0.216614  0.204149   \n",
      "TYPE_not default          -0.324794 -0.263551 -0.235253 -0.216614 -0.204149   \n",
      "Generation_Gen Z           0.086148  0.096994  0.099807  0.090594  0.092526   \n",
      "Generation_Millennial     -0.060348 -0.066722 -0.067789 -0.061923 -0.058992   \n",
      "Generation_Gen X          -0.011333 -0.009249 -0.008125 -0.006727 -0.014272   \n",
      "Generation_Boomer          0.019919  0.012233  0.007568  0.006563  0.010759   \n",
      "LIMIT_BIN_0-50k            0.218696  0.251145  0.245273  0.229925  0.211772   \n",
      "LIMIT_BIN_50k-100k         0.102203  0.104770  0.094970  0.094322  0.092794   \n",
      "LIMIT_BIN_100k-150k        0.008215  0.003556  0.004265  0.003987  0.007408   \n",
      "LIMIT_BIN_150k-200k       -0.087598 -0.097360 -0.091308 -0.094258 -0.092293   \n",
      "LIMIT_BIN_200k-250k       -0.080991 -0.097015 -0.094854 -0.089369 -0.086209   \n",
      "LIMIT_BIN_250-300k        -0.089509 -0.097271 -0.093212 -0.084012 -0.079262   \n",
      "LIMIT_BIN_300k-350k       -0.076992 -0.069411 -0.063742 -0.057606 -0.049863   \n",
      "LIMIT_BIN_350k-400k       -0.089976 -0.116280 -0.113876 -0.116888 -0.108685   \n",
      "LIMIT_BIN_400k-1000k      -0.100548 -0.096939 -0.094679 -0.079984 -0.075079   \n",
      "\n",
      "                           ...  Generation_Boomer  LIMIT_BIN_0-50k  \\\n",
      "LIMIT_BAL                  ...          -0.005167        -0.597836   \n",
      "SEX                        ...           0.046560         0.106712   \n",
      "MARRIAGE                   ...          -0.109349         0.088380   \n",
      "AGE                        ...           0.483008        -0.077195   \n",
      "TYPE2                      ...           0.020980         0.136579   \n",
      "PAY_0                      ...           0.019919         0.218696   \n",
      "PAY_2                      ...           0.012233         0.251145   \n",
      "PAY_3                      ...           0.007568         0.245273   \n",
      "PAY_4                      ...           0.006563         0.229925   \n",
      "PAY_5                      ...           0.010759         0.211772   \n",
      "PAY_6                      ...           0.015046         0.189422   \n",
      "EDUCATION_graduate school  ...          -0.043034        -0.199408   \n",
      "EDUCATION_high school      ...           0.130842         0.124003   \n",
      "EDUCATION_other            ...          -0.007932        -0.024501   \n",
      "EDUCATION_university       ...          -0.053891         0.105059   \n",
      "TYPE_default               ...           0.020980         0.136579   \n",
      "TYPE_not default           ...          -0.020980        -0.136579   \n",
      "Generation_Gen Z           ...          -0.073411         0.275623   \n",
      "Generation_Millennial      ...          -0.272648        -0.229313   \n",
      "Generation_Gen X           ...          -0.084609         0.031905   \n",
      "Generation_Boomer          ...           1.000000         0.018917   \n",
      "LIMIT_BIN_0-50k            ...           0.018917         1.000000   \n",
      "LIMIT_BIN_50k-100k         ...           0.004807        -0.256616   \n",
      "LIMIT_BIN_100k-150k        ...          -0.011825        -0.226737   \n",
      "LIMIT_BIN_150k-200k        ...          -0.007812        -0.229268   \n",
      "LIMIT_BIN_200k-250k        ...          -0.017741        -0.192004   \n",
      "LIMIT_BIN_250-300k         ...           0.000277        -0.163088   \n",
      "LIMIT_BIN_300k-350k        ...           0.002461        -0.120006   \n",
      "LIMIT_BIN_350k-400k        ...          -0.002052        -0.137009   \n",
      "LIMIT_BIN_400k-1000k       ...           0.007375        -0.148322   \n",
      "\n",
      "                           LIMIT_BIN_50k-100k  LIMIT_BIN_100k-150k  \\\n",
      "LIMIT_BAL                           -0.292521            -0.103562   \n",
      "SEX                                 -0.051731            -0.031855   \n",
      "MARRIAGE                             0.015283             0.020621   \n",
      "AGE                                 -0.050264            -0.031751   \n",
      "TYPE2                                0.038785            -0.009102   \n",
      "PAY_0                                0.102203             0.008215   \n",
      "PAY_2                                0.104770             0.003556   \n",
      "PAY_3                                0.094970             0.004265   \n",
      "PAY_4                                0.094322             0.003987   \n",
      "PAY_5                                0.092794             0.007408   \n",
      "PAY_6                                0.094127             0.013346   \n",
      "EDUCATION_graduate school           -0.084396            -0.002230   \n",
      "EDUCATION_high school                0.045276            -0.005765   \n",
      "EDUCATION_other                     -0.010417             0.008899   \n",
      "EDUCATION_university                 0.049823             0.004203   \n",
      "TYPE_default                         0.038785            -0.009102   \n",
      "TYPE_not default                    -0.038785             0.009102   \n",
      "Generation_Gen Z                     0.066002            -0.026452   \n",
      "Generation_Millennial               -0.034133             0.046430   \n",
      "Generation_Gen X                    -0.018828            -0.029038   \n",
      "Generation_Boomer                    0.004807            -0.011825   \n",
      "LIMIT_BIN_0-50k                     -0.256616            -0.226737   \n",
      "LIMIT_BIN_50k-100k                   1.000000            -0.169217   \n",
      "LIMIT_BIN_100k-150k                 -0.169217             1.000000   \n",
      "LIMIT_BIN_150k-200k                 -0.171106            -0.151183   \n",
      "LIMIT_BIN_200k-250k                 -0.143295            -0.126610   \n",
      "LIMIT_BIN_250-300k                  -0.121715            -0.107543   \n",
      "LIMIT_BIN_300k-350k                 -0.089562            -0.079134   \n",
      "LIMIT_BIN_350k-400k                 -0.102252            -0.090346   \n",
      "LIMIT_BIN_400k-1000k                -0.110695            -0.097806   \n",
      "\n",
      "                           LIMIT_BIN_150k-200k  LIMIT_BIN_200k-250k  \\\n",
      "LIMIT_BAL                             0.048056             0.152471   \n",
      "SEX                                  -0.025992            -0.035524   \n",
      "MARRIAGE                             -0.025671            -0.031781   \n",
      "AGE                                   0.019104             0.029330   \n",
      "TYPE2                                -0.040241            -0.044153   \n",
      "PAY_0                                -0.087598            -0.080991   \n",
      "PAY_2                                -0.097360            -0.097015   \n",
      "PAY_3                                -0.091308            -0.094854   \n",
      "PAY_4                                -0.094258            -0.089369   \n",
      "PAY_5                                -0.092293            -0.086209   \n",
      "PAY_6                                -0.082991            -0.079918   \n",
      "EDUCATION_graduate school             0.056446             0.072184   \n",
      "EDUCATION_high school                -0.034780            -0.052715   \n",
      "EDUCATION_other                       0.026922             0.006987   \n",
      "EDUCATION_university                 -0.034941            -0.031756   \n",
      "TYPE_default                         -0.040241            -0.044153   \n",
      "TYPE_not default                      0.040241             0.044153   \n",
      "Generation_Gen Z                     -0.097131            -0.091736   \n",
      "Generation_Millennial                 0.085595             0.078349   \n",
      "Generation_Gen X                     -0.016736            -0.007504   \n",
      "Generation_Boomer                    -0.007812            -0.017741   \n",
      "LIMIT_BIN_0-50k                      -0.229268            -0.192004   \n",
      "LIMIT_BIN_50k-100k                   -0.171106            -0.143295   \n",
      "LIMIT_BIN_100k-150k                  -0.151183            -0.126610   \n",
      "LIMIT_BIN_150k-200k                   1.000000            -0.128024   \n",
      "LIMIT_BIN_200k-250k                  -0.128024             1.000000   \n",
      "LIMIT_BIN_250-300k                   -0.108744            -0.091069   \n",
      "LIMIT_BIN_300k-350k                  -0.080017            -0.067012   \n",
      "LIMIT_BIN_350k-400k                  -0.091354            -0.076506   \n",
      "LIMIT_BIN_400k-1000k                 -0.098898            -0.082823   \n",
      "\n",
      "                           LIMIT_BIN_250-300k  LIMIT_BIN_300k-350k  \\\n",
      "LIMIT_BAL                            0.242943             0.254027   \n",
      "SEX                                 -0.022058            -0.008291   \n",
      "MARRIAGE                            -0.033327            -0.030090   \n",
      "AGE                                  0.041971             0.037252   \n",
      "TYPE2                               -0.044942            -0.044879   \n",
      "PAY_0                               -0.089509            -0.076992   \n",
      "PAY_2                               -0.097271            -0.069411   \n",
      "PAY_3                               -0.093212            -0.063742   \n",
      "PAY_4                               -0.084012            -0.057606   \n",
      "PAY_5                               -0.079262            -0.049863   \n",
      "PAY_6                               -0.076124            -0.046769   \n",
      "EDUCATION_graduate school            0.068903             0.062319   \n",
      "EDUCATION_high school               -0.047451            -0.041561   \n",
      "EDUCATION_other                      0.013960            -0.003853   \n",
      "EDUCATION_university                -0.034251            -0.027891   \n",
      "TYPE_default                        -0.044942            -0.044879   \n",
      "TYPE_not default                     0.044942             0.044879   \n",
      "Generation_Gen Z                    -0.088949            -0.066623   \n",
      "Generation_Millennial                0.061505             0.044169   \n",
      "Generation_Gen X                     0.002372             0.003064   \n",
      "Generation_Boomer                    0.000277             0.002461   \n",
      "LIMIT_BIN_0-50k                     -0.163088            -0.120006   \n",
      "LIMIT_BIN_50k-100k                  -0.121715            -0.089562   \n",
      "LIMIT_BIN_100k-150k                 -0.107543            -0.079134   \n",
      "LIMIT_BIN_150k-200k                 -0.108744            -0.080017   \n",
      "LIMIT_BIN_200k-250k                 -0.091069            -0.067012   \n",
      "LIMIT_BIN_250-300k                   1.000000            -0.056920   \n",
      "LIMIT_BIN_300k-350k                 -0.056920             1.000000   \n",
      "LIMIT_BIN_350k-400k                 -0.064984            -0.047818   \n",
      "LIMIT_BIN_400k-1000k                -0.070350            -0.051766   \n",
      "\n",
      "                           LIMIT_BIN_350k-400k  LIMIT_BIN_400k-1000k  \n",
      "LIMIT_BAL                             0.369754              0.619237  \n",
      "SEX                                   0.014026              0.028132  \n",
      "MARRIAGE                             -0.029415             -0.050386  \n",
      "AGE                                   0.035631              0.090965  \n",
      "TYPE2                                -0.040788             -0.061498  \n",
      "PAY_0                                -0.089976             -0.100548  \n",
      "PAY_2                                -0.116280             -0.096939  \n",
      "PAY_3                                -0.113876             -0.094679  \n",
      "PAY_4                                -0.116888             -0.079984  \n",
      "PAY_5                                -0.108685             -0.075079  \n",
      "PAY_6                                -0.107664             -0.072529  \n",
      "EDUCATION_graduate school             0.089748              0.119273  \n",
      "EDUCATION_high school                -0.036796             -0.054040  \n",
      "EDUCATION_other                      -0.007560             -0.003556  \n",
      "EDUCATION_university                 -0.056775             -0.073252  \n",
      "TYPE_default                         -0.040788             -0.061498  \n",
      "TYPE_not default                      0.040788              0.061498  \n",
      "Generation_Gen Z                     -0.080059             -0.091503  \n",
      "Generation_Millennial                 0.055820              0.033056  \n",
      "Generation_Gen X                      0.002693              0.037208  \n",
      "Generation_Boomer                    -0.002052              0.007375  \n",
      "LIMIT_BIN_0-50k                      -0.137009             -0.148322  \n",
      "LIMIT_BIN_50k-100k                   -0.102252             -0.110695  \n",
      "LIMIT_BIN_100k-150k                  -0.090346             -0.097806  \n",
      "LIMIT_BIN_150k-200k                  -0.091354             -0.098898  \n",
      "LIMIT_BIN_200k-250k                  -0.076506             -0.082823  \n",
      "LIMIT_BIN_250-300k                   -0.064984             -0.070350  \n",
      "LIMIT_BIN_300k-350k                  -0.047818             -0.051766  \n",
      "LIMIT_BIN_350k-400k                   1.000000             -0.059101  \n",
      "LIMIT_BIN_400k-1000k                 -0.059101              1.000000  \n",
      "\n",
      "[30 rows x 30 columns]\n"
     ]
    }
   ],
   "source": [
    "corr_mat = data1.corr()\n",
    "print(corr_mat)"
   ]
  },
  {
   "cell_type": "code",
   "execution_count": 79,
   "metadata": {},
   "outputs": [
    {
     "name": "stdout",
     "output_type": "stream",
     "text": [
      "                              LIMIT_BAL          SEX     MARRIAGE  \\\n",
      "LIMIT_BAL                  1.683446e+10 -1571.050630 -7323.669658   \n",
      "SEX                       -1.571051e+03     0.239247     0.008014   \n",
      "MARRIAGE                  -7.323670e+03     0.008014     0.272452   \n",
      "AGE                        1.730767e+05     0.409726    -1.992764   \n",
      "TYPE2                     -8.267552e+03     0.008113    -0.005273   \n",
      "PAY_0                     -3.954593e+04     0.031685     0.011683   \n",
      "PAY_2                     -4.603765e+04     0.041442     0.015122   \n",
      "PAY_3                     -4.443225e+04     0.038694     0.020421   \n",
      "PAY_4                     -4.057181e+04     0.034411     0.020213   \n",
      "PAY_5                     -3.667056e+04     0.030521     0.021074   \n",
      "PAY_6                     -3.509308e+04     0.024754     0.020616   \n",
      "EDUCATION_graduate school  1.604448e+04     0.005317     0.035451   \n",
      "EDUCATION_high school     -6.709315e+03     0.001385    -0.021418   \n",
      "EDUCATION_other            2.157851e+02    -0.000515    -0.000542   \n",
      "EDUCATION_university      -9.550953e+03    -0.006188    -0.013490   \n",
      "TYPE_default              -8.267552e+03     0.008113    -0.005273   \n",
      "TYPE_not default           8.267552e+03    -0.008113     0.005273   \n",
      "Generation_Gen Z          -1.209346e+04    -0.012299     0.043459   \n",
      "Generation_Millennial      1.133441e+04     0.000433     0.010125   \n",
      "Generation_Gen X           8.824240e+02     0.007674    -0.043080   \n",
      "Generation_Boomer         -1.233705e+02     0.004191    -0.010504   \n",
      "LIMIT_BIN_0-50k           -3.384705e+04     0.022776     0.020130   \n",
      "LIMIT_BIN_50k-100k        -1.394011e+04    -0.009294     0.002930   \n",
      "LIMIT_BIN_100k-150k       -4.519945e+03    -0.005241     0.003621   \n",
      "LIMIT_BIN_150k-200k        2.114649e+03    -0.004312    -0.004544   \n",
      "LIMIT_BIN_200k-250k        5.850463e+03    -0.005139    -0.004906   \n",
      "LIMIT_BIN_250-300k         8.137564e+03    -0.002785    -0.004491   \n",
      "LIMIT_BIN_300k-350k        6.474269e+03    -0.000797    -0.003085   \n",
      "LIMIT_BIN_350k-400k        1.062925e+04     0.001520    -0.003402   \n",
      "LIMIT_BIN_400k-1000k       1.910091e+04     0.003271    -0.006252   \n",
      "\n",
      "                                     AGE        TYPE2         PAY_0  \\\n",
      "LIMIT_BAL                  173076.722569 -8267.551759 -39545.930009   \n",
      "SEX                             0.409726     0.008113      0.031685   \n",
      "MARRIAGE                       -1.992764    -0.005273      0.011683   \n",
      "AGE                            84.969755     0.053143     -0.408639   \n",
      "TYPE2                           0.053143     0.172276      0.151499   \n",
      "PAY_0                          -0.408639     0.151499      1.262930   \n",
      "PAY_2                          -0.553408     0.130960      0.904330   \n",
      "PAY_3                          -0.585263     0.116867      0.772384   \n",
      "PAY_4                          -0.535851     0.105115      0.707972   \n",
      "PAY_5                          -0.562245     0.096020      0.648743   \n",
      "PAY_6                          -0.517022     0.089194      0.613292   \n",
      "EDUCATION_graduate school      -0.442349    -0.010180     -0.076644   \n",
      "EDUCATION_high school           0.789120     0.004979      0.024505   \n",
      "EDUCATION_other                 0.010260    -0.002351     -0.003473   \n",
      "EDUCATION_university           -0.357031     0.007552      0.055612   \n",
      "TYPE_default                    0.053143     0.172276      0.151499   \n",
      "TYPE_not default               -0.053143    -0.172276     -0.151499   \n",
      "Generation_Gen Z               -1.517596     0.005858      0.032456   \n",
      "Generation_Millennial          -1.370493    -0.010255     -0.031855   \n",
      "Generation_Gen X                2.068703     0.002794     -0.004721   \n",
      "Generation_Boomer               0.819386     0.001603      0.004120   \n",
      "LIMIT_BIN_0-50k                -0.310500     0.024736      0.107243   \n",
      "LIMIT_BIN_50k-100k             -0.170175     0.005913      0.042186   \n",
      "LIMIT_BIN_100k-150k            -0.098451    -0.001271      0.003106   \n",
      "LIMIT_BIN_150k-200k             0.059725    -0.005665     -0.033387   \n",
      "LIMIT_BIN_200k-250k             0.079957    -0.005420     -0.026917   \n",
      "LIMIT_BIN_250-300k              0.099878    -0.004816     -0.025968   \n",
      "LIMIT_BIN_300k-350k             0.067452    -0.003659     -0.016996   \n",
      "LIMIT_BIN_350k-400k             0.072770    -0.003751     -0.022403   \n",
      "LIMIT_BIN_400k-1000k            0.199345    -0.006068     -0.026863   \n",
      "\n",
      "                                  PAY_2         PAY_3         PAY_4  \\\n",
      "LIMIT_BAL                 -46037.648360 -44432.253315 -40571.811859   \n",
      "SEX                            0.041442      0.038694      0.034411   \n",
      "MARRIAGE                       0.015122      0.020421      0.020213   \n",
      "AGE                           -0.553408     -0.585263     -0.535851   \n",
      "TYPE2                          0.130960      0.116867      0.105115   \n",
      "PAY_0                          0.904330      0.772384      0.707972   \n",
      "PAY_2                          1.433254      1.098371      0.926680   \n",
      "PAY_3                          1.098371      1.432492      1.087761   \n",
      "PAY_4                          0.926680      1.087761      1.366885   \n",
      "PAY_5                          0.844886      0.931455      1.086161   \n",
      "PAY_6                          0.792320      0.870815      0.963263   \n",
      "EDUCATION_graduate school     -0.096806     -0.091629     -0.085144   \n",
      "EDUCATION_high school          0.028625      0.027674      0.025268   \n",
      "EDUCATION_other               -0.004913     -0.005107     -0.004491   \n",
      "EDUCATION_university           0.073094      0.069062      0.064367   \n",
      "TYPE_default                   0.130960      0.116867      0.105115   \n",
      "TYPE_not default              -0.130960     -0.116867     -0.105115   \n",
      "Generation_Gen Z               0.038928      0.040047      0.035508   \n",
      "Generation_Millennial         -0.037519     -0.038109     -0.034005   \n",
      "Generation_Gen X              -0.004104     -0.003605     -0.002915   \n",
      "Generation_Boomer              0.002695      0.001667      0.001412   \n",
      "LIMIT_BIN_0-50k                0.131197      0.128096      0.117298   \n",
      "LIMIT_BIN_50k-100k             0.046069      0.041749      0.040503   \n",
      "LIMIT_BIN_100k-150k            0.001432      0.001717      0.001568   \n",
      "LIMIT_BIN_150k-200k           -0.039531     -0.037063     -0.037374   \n",
      "LIMIT_BIN_200k-250k           -0.034348     -0.033574     -0.030900   \n",
      "LIMIT_BIN_250-300k            -0.030063     -0.028801     -0.025357   \n",
      "LIMIT_BIN_300k-350k           -0.016323     -0.014986     -0.013230   \n",
      "LIMIT_BIN_350k-400k           -0.030843     -0.030197     -0.030278   \n",
      "LIMIT_BIN_400k-1000k          -0.027590     -0.026940     -0.022231   \n",
      "\n",
      "                                  PAY_5  ...  Generation_Boomer  \\\n",
      "LIMIT_BAL                 -36670.562325  ...        -123.370505   \n",
      "SEX                            0.030521  ...           0.004191   \n",
      "MARRIAGE                       0.021074  ...          -0.010504   \n",
      "AGE                           -0.562245  ...           0.819386   \n",
      "TYPE2                          0.096020  ...           0.001603   \n",
      "PAY_0                          0.648743  ...           0.004120   \n",
      "PAY_2                          0.844886  ...           0.002695   \n",
      "PAY_3                          0.931455  ...           0.001667   \n",
      "PAY_4                          1.086161  ...           0.001412   \n",
      "PAY_5                          1.284114  ...           0.002244   \n",
      "PAY_6                          1.064545  ...           0.003184   \n",
      "EDUCATION_graduate school     -0.075112  ...          -0.003785   \n",
      "EDUCATION_high school          0.020798  ...           0.008914   \n",
      "EDUCATION_other               -0.004047  ...          -0.000181   \n",
      "EDUCATION_university           0.058361  ...          -0.004949   \n",
      "TYPE_default                   0.096020  ...           0.001603   \n",
      "TYPE_not default              -0.096020  ...          -0.001603   \n",
      "Generation_Gen Z               0.035150  ...          -0.004529   \n",
      "Generation_Millennial         -0.031399  ...          -0.023568   \n",
      "Generation_Gen X              -0.005995  ...          -0.005772   \n",
      "Generation_Boomer              0.002244  ...           0.033869   \n",
      "LIMIT_BIN_0-50k                0.104715  ...           0.001519   \n",
      "LIMIT_BIN_50k-100k             0.038622  ...           0.000325   \n",
      "LIMIT_BIN_100k-150k            0.002824  ...          -0.000732   \n",
      "LIMIT_BIN_150k-200k           -0.035470  ...          -0.000488   \n",
      "LIMIT_BIN_200k-250k           -0.028891  ...          -0.000966   \n",
      "LIMIT_BIN_250-300k            -0.023188  ...           0.000013   \n",
      "LIMIT_BIN_300k-350k           -0.011099  ...           0.000089   \n",
      "LIMIT_BIN_350k-400k           -0.027287  ...          -0.000084   \n",
      "LIMIT_BIN_400k-1000k          -0.020227  ...           0.000323   \n",
      "\n",
      "                           LIMIT_BIN_0-50k  LIMIT_BIN_50k-100k  \\\n",
      "LIMIT_BAL                    -33847.050261       -13940.111467   \n",
      "SEX                               0.022776           -0.009294   \n",
      "MARRIAGE                          0.020130            0.002930   \n",
      "AGE                              -0.310500           -0.170175   \n",
      "TYPE2                             0.024736            0.005913   \n",
      "PAY_0                             0.107243            0.042186   \n",
      "PAY_2                             0.131197            0.046069   \n",
      "PAY_3                             0.128096            0.041749   \n",
      "PAY_4                             0.117298            0.040503   \n",
      "PAY_5                             0.104715            0.038622   \n",
      "PAY_6                             0.095053            0.039757   \n",
      "EDUCATION_graduate school        -0.041580           -0.014813   \n",
      "EDUCATION_high school             0.020031            0.006156   \n",
      "EDUCATION_other                  -0.001325           -0.000474   \n",
      "EDUCATION_university              0.022874            0.009131   \n",
      "TYPE_default                      0.024736            0.005913   \n",
      "TYPE_not default                 -0.024736           -0.005913   \n",
      "Generation_Gen Z                  0.040319            0.008127   \n",
      "Generation_Millennial            -0.046999           -0.005889   \n",
      "Generation_Gen X                  0.005160           -0.002563   \n",
      "Generation_Boomer                 0.001519            0.000325   \n",
      "LIMIT_BIN_0-50k                   0.190405           -0.041128   \n",
      "LIMIT_BIN_50k-100k               -0.041128            0.134903   \n",
      "LIMIT_BIN_100k-150k              -0.033281           -0.020907   \n",
      "LIMIT_BIN_150k-200k              -0.033929           -0.021314   \n",
      "LIMIT_BIN_200k-250k              -0.024777           -0.015565   \n",
      "LIMIT_BIN_250-300k               -0.018372           -0.011541   \n",
      "LIMIT_BIN_300k-350k              -0.010286           -0.006462   \n",
      "LIMIT_BIN_350k-400k              -0.013246           -0.008321   \n",
      "LIMIT_BIN_400k-1000k             -0.015387           -0.009666   \n",
      "\n",
      "                           LIMIT_BIN_100k-150k  LIMIT_BIN_150k-200k  \\\n",
      "LIMIT_BAL                         -4519.944900          2114.649303   \n",
      "SEX                                  -0.005241            -0.004312   \n",
      "MARRIAGE                              0.003621            -0.004544   \n",
      "AGE                                  -0.098451             0.059725   \n",
      "TYPE2                                -0.001271            -0.005665   \n",
      "PAY_0                                 0.003106            -0.033387   \n",
      "PAY_2                                 0.001432            -0.039531   \n",
      "PAY_3                                 0.001717            -0.037063   \n",
      "PAY_4                                 0.001568            -0.037374   \n",
      "PAY_5                                 0.002824            -0.035470   \n",
      "PAY_6                                 0.005163            -0.032368   \n",
      "EDUCATION_graduate school            -0.000359             0.009148   \n",
      "EDUCATION_high school                -0.000718            -0.004367   \n",
      "EDUCATION_other                       0.000371             0.001131   \n",
      "EDUCATION_university                  0.000706            -0.005913   \n",
      "TYPE_default                         -0.001271            -0.005665   \n",
      "TYPE_not default                      0.001271             0.005665   \n",
      "Generation_Gen Z                     -0.002983            -0.011044   \n",
      "Generation_Millennial                 0.007336             0.013635   \n",
      "Generation_Gen X                     -0.003621            -0.002104   \n",
      "Generation_Boomer                    -0.000732            -0.000488   \n",
      "LIMIT_BIN_0-50k                      -0.033281            -0.033929   \n",
      "LIMIT_BIN_50k-100k                   -0.020907            -0.021314   \n",
      "LIMIT_BIN_100k-150k                   0.113153            -0.017247   \n",
      "LIMIT_BIN_150k-200k                  -0.017247             0.115021   \n",
      "LIMIT_BIN_200k-250k                  -0.012595            -0.012841   \n",
      "LIMIT_BIN_250-300k                   -0.009339            -0.009521   \n",
      "LIMIT_BIN_300k-350k                  -0.005229            -0.005331   \n",
      "LIMIT_BIN_350k-400k                  -0.006733            -0.006864   \n",
      "LIMIT_BIN_400k-1000k                 -0.007822            -0.007974   \n",
      "\n",
      "                           LIMIT_BIN_200k-250k  LIMIT_BIN_250-300k  \\\n",
      "LIMIT_BAL                          5850.463104         8137.563551   \n",
      "SEX                                  -0.005139           -0.002785   \n",
      "MARRIAGE                             -0.004906           -0.004491   \n",
      "AGE                                   0.079957            0.099878   \n",
      "TYPE2                                -0.005420           -0.004816   \n",
      "PAY_0                                -0.026917           -0.025968   \n",
      "PAY_2                                -0.034348           -0.030063   \n",
      "PAY_3                                -0.033574           -0.028801   \n",
      "PAY_4                                -0.030900           -0.025357   \n",
      "PAY_5                                -0.028891           -0.023188   \n",
      "PAY_6                                -0.027179           -0.022600   \n",
      "EDUCATION_graduate school             0.010201            0.008500   \n",
      "EDUCATION_high school                -0.005771           -0.004535   \n",
      "EDUCATION_other                       0.000256            0.000447   \n",
      "EDUCATION_university                 -0.004686           -0.004412   \n",
      "TYPE_default                         -0.005420           -0.004816   \n",
      "TYPE_not default                      0.005420            0.004816   \n",
      "Generation_Gen Z                     -0.009095           -0.007698   \n",
      "Generation_Millennial                 0.010883            0.007458   \n",
      "Generation_Gen X                     -0.000823            0.000227   \n",
      "Generation_Boomer                    -0.000966            0.000013   \n",
      "LIMIT_BIN_0-50k                      -0.024777           -0.018372   \n",
      "LIMIT_BIN_50k-100k                   -0.015565           -0.011541   \n",
      "LIMIT_BIN_100k-150k                  -0.012595           -0.009339   \n",
      "LIMIT_BIN_150k-200k                  -0.012841           -0.009521   \n",
      "LIMIT_BIN_200k-250k                   0.087460           -0.006953   \n",
      "LIMIT_BIN_250-300k                   -0.006953            0.066647   \n",
      "LIMIT_BIN_300k-350k                  -0.003893           -0.002886   \n",
      "LIMIT_BIN_350k-400k                  -0.005013           -0.003717   \n",
      "LIMIT_BIN_400k-1000k                 -0.005823           -0.004318   \n",
      "\n",
      "                           LIMIT_BIN_300k-350k  LIMIT_BIN_350k-400k  \\\n",
      "LIMIT_BAL                          6474.268704         10629.249205   \n",
      "SEX                                  -0.000797             0.001520   \n",
      "MARRIAGE                             -0.003085            -0.003402   \n",
      "AGE                                   0.067452             0.072770   \n",
      "TYPE2                                -0.003659            -0.003751   \n",
      "PAY_0                                -0.016996            -0.022403   \n",
      "PAY_2                                -0.016323            -0.030843   \n",
      "PAY_3                                -0.014986            -0.030197   \n",
      "PAY_4                                -0.013230            -0.030278   \n",
      "PAY_5                                -0.011099            -0.027287   \n",
      "PAY_6                                -0.010565            -0.027432   \n",
      "EDUCATION_graduate school             0.005850             0.009502   \n",
      "EDUCATION_high school                -0.003022            -0.003018   \n",
      "EDUCATION_other                      -0.000094            -0.000208   \n",
      "EDUCATION_university                 -0.002734            -0.006276   \n",
      "TYPE_default                         -0.003659            -0.003751   \n",
      "TYPE_not default                      0.003659             0.003751   \n",
      "Generation_Gen Z                     -0.004387            -0.005946   \n",
      "Generation_Millennial                 0.004075             0.005809   \n",
      "Generation_Gen X                      0.000223             0.000221   \n",
      "Generation_Boomer                     0.000089            -0.000084   \n",
      "LIMIT_BIN_0-50k                      -0.010286            -0.013246   \n",
      "LIMIT_BIN_50k-100k                   -0.006462            -0.008321   \n",
      "LIMIT_BIN_100k-150k                  -0.005229            -0.006733   \n",
      "LIMIT_BIN_150k-200k                  -0.005331            -0.006864   \n",
      "LIMIT_BIN_200k-250k                  -0.003893            -0.005013   \n",
      "LIMIT_BIN_250-300k                   -0.002886            -0.003717   \n",
      "LIMIT_BIN_300k-350k                   0.038585            -0.002081   \n",
      "LIMIT_BIN_350k-400k                  -0.002081             0.049089   \n",
      "LIMIT_BIN_400k-1000k                 -0.002417            -0.003113   \n",
      "\n",
      "                           LIMIT_BIN_400k-1000k  \n",
      "LIMIT_BAL                          19100.912761  \n",
      "SEX                                    0.003271  \n",
      "MARRIAGE                              -0.006252  \n",
      "AGE                                    0.199345  \n",
      "TYPE2                                 -0.006068  \n",
      "PAY_0                                 -0.026863  \n",
      "PAY_2                                 -0.027590  \n",
      "PAY_3                                 -0.026940  \n",
      "PAY_4                                 -0.022231  \n",
      "PAY_5                                 -0.020227  \n",
      "PAY_6                                 -0.019829  \n",
      "EDUCATION_graduate school              0.013550  \n",
      "EDUCATION_high school                 -0.004756  \n",
      "EDUCATION_other                       -0.000105  \n",
      "EDUCATION_university                  -0.008689  \n",
      "TYPE_default                          -0.006068  \n",
      "TYPE_not default                       0.006068  \n",
      "Generation_Gen Z                      -0.007293  \n",
      "Generation_Millennial                  0.003691  \n",
      "Generation_Gen X                       0.003279  \n",
      "Generation_Boomer                      0.000323  \n",
      "LIMIT_BIN_0-50k                       -0.015387  \n",
      "LIMIT_BIN_50k-100k                    -0.009666  \n",
      "LIMIT_BIN_100k-150k                   -0.007822  \n",
      "LIMIT_BIN_150k-200k                   -0.007974  \n",
      "LIMIT_BIN_200k-250k                   -0.005823  \n",
      "LIMIT_BIN_250-300k                    -0.004318  \n",
      "LIMIT_BIN_300k-350k                   -0.002417  \n",
      "LIMIT_BIN_350k-400k                   -0.003113  \n",
      "LIMIT_BIN_400k-1000k                   0.056519  \n",
      "\n",
      "[30 rows x 30 columns]\n"
     ]
    }
   ],
   "source": [
    "cov_mat = data1.cov()\n",
    "print(cov_mat)"
   ]
  },
  {
   "cell_type": "code",
   "execution_count": 80,
   "metadata": {},
   "outputs": [
    {
     "data": {
      "text/html": [
       "<div>\n",
       "<style scoped>\n",
       "    .dataframe tbody tr th:only-of-type {\n",
       "        vertical-align: middle;\n",
       "    }\n",
       "\n",
       "    .dataframe tbody tr th {\n",
       "        vertical-align: top;\n",
       "    }\n",
       "\n",
       "    .dataframe thead th {\n",
       "        text-align: right;\n",
       "    }\n",
       "</style>\n",
       "<table border=\"1\" class=\"dataframe\">\n",
       "  <thead>\n",
       "    <tr style=\"text-align: right;\">\n",
       "      <th></th>\n",
       "      <th>LIMIT_BAL</th>\n",
       "      <th>SEX</th>\n",
       "      <th>MARRIAGE</th>\n",
       "      <th>AGE</th>\n",
       "      <th>TYPE2</th>\n",
       "      <th>PAY_0</th>\n",
       "      <th>PAY_2</th>\n",
       "      <th>PAY_3</th>\n",
       "      <th>PAY_4</th>\n",
       "      <th>PAY_5</th>\n",
       "      <th>...</th>\n",
       "      <th>Generation_Boomer</th>\n",
       "      <th>LIMIT_BIN_0-50k</th>\n",
       "      <th>LIMIT_BIN_50k-100k</th>\n",
       "      <th>LIMIT_BIN_100k-150k</th>\n",
       "      <th>LIMIT_BIN_150k-200k</th>\n",
       "      <th>LIMIT_BIN_200k-250k</th>\n",
       "      <th>LIMIT_BIN_250-300k</th>\n",
       "      <th>LIMIT_BIN_300k-350k</th>\n",
       "      <th>LIMIT_BIN_350k-400k</th>\n",
       "      <th>LIMIT_BIN_400k-1000k</th>\n",
       "    </tr>\n",
       "  </thead>\n",
       "  <tbody>\n",
       "    <tr>\n",
       "      <th>0</th>\n",
       "      <td>20000</td>\n",
       "      <td>0</td>\n",
       "      <td>1</td>\n",
       "      <td>24</td>\n",
       "      <td>1</td>\n",
       "      <td>2</td>\n",
       "      <td>2</td>\n",
       "      <td>-1</td>\n",
       "      <td>-1</td>\n",
       "      <td>-2</td>\n",
       "      <td>...</td>\n",
       "      <td>0</td>\n",
       "      <td>1</td>\n",
       "      <td>0</td>\n",
       "      <td>0</td>\n",
       "      <td>0</td>\n",
       "      <td>0</td>\n",
       "      <td>0</td>\n",
       "      <td>0</td>\n",
       "      <td>0</td>\n",
       "      <td>0</td>\n",
       "    </tr>\n",
       "    <tr>\n",
       "      <th>1</th>\n",
       "      <td>120000</td>\n",
       "      <td>0</td>\n",
       "      <td>2</td>\n",
       "      <td>26</td>\n",
       "      <td>1</td>\n",
       "      <td>-1</td>\n",
       "      <td>2</td>\n",
       "      <td>0</td>\n",
       "      <td>0</td>\n",
       "      <td>0</td>\n",
       "      <td>...</td>\n",
       "      <td>0</td>\n",
       "      <td>0</td>\n",
       "      <td>0</td>\n",
       "      <td>1</td>\n",
       "      <td>0</td>\n",
       "      <td>0</td>\n",
       "      <td>0</td>\n",
       "      <td>0</td>\n",
       "      <td>0</td>\n",
       "      <td>0</td>\n",
       "    </tr>\n",
       "    <tr>\n",
       "      <th>2</th>\n",
       "      <td>90000</td>\n",
       "      <td>0</td>\n",
       "      <td>2</td>\n",
       "      <td>34</td>\n",
       "      <td>0</td>\n",
       "      <td>0</td>\n",
       "      <td>0</td>\n",
       "      <td>0</td>\n",
       "      <td>0</td>\n",
       "      <td>0</td>\n",
       "      <td>...</td>\n",
       "      <td>0</td>\n",
       "      <td>0</td>\n",
       "      <td>1</td>\n",
       "      <td>0</td>\n",
       "      <td>0</td>\n",
       "      <td>0</td>\n",
       "      <td>0</td>\n",
       "      <td>0</td>\n",
       "      <td>0</td>\n",
       "      <td>0</td>\n",
       "    </tr>\n",
       "    <tr>\n",
       "      <th>3</th>\n",
       "      <td>50000</td>\n",
       "      <td>0</td>\n",
       "      <td>1</td>\n",
       "      <td>37</td>\n",
       "      <td>0</td>\n",
       "      <td>0</td>\n",
       "      <td>0</td>\n",
       "      <td>0</td>\n",
       "      <td>0</td>\n",
       "      <td>0</td>\n",
       "      <td>...</td>\n",
       "      <td>0</td>\n",
       "      <td>1</td>\n",
       "      <td>0</td>\n",
       "      <td>0</td>\n",
       "      <td>0</td>\n",
       "      <td>0</td>\n",
       "      <td>0</td>\n",
       "      <td>0</td>\n",
       "      <td>0</td>\n",
       "      <td>0</td>\n",
       "    </tr>\n",
       "    <tr>\n",
       "      <th>4</th>\n",
       "      <td>50000</td>\n",
       "      <td>1</td>\n",
       "      <td>1</td>\n",
       "      <td>57</td>\n",
       "      <td>0</td>\n",
       "      <td>-1</td>\n",
       "      <td>0</td>\n",
       "      <td>-1</td>\n",
       "      <td>0</td>\n",
       "      <td>0</td>\n",
       "      <td>...</td>\n",
       "      <td>1</td>\n",
       "      <td>1</td>\n",
       "      <td>0</td>\n",
       "      <td>0</td>\n",
       "      <td>0</td>\n",
       "      <td>0</td>\n",
       "      <td>0</td>\n",
       "      <td>0</td>\n",
       "      <td>0</td>\n",
       "      <td>0</td>\n",
       "    </tr>\n",
       "  </tbody>\n",
       "</table>\n",
       "<p>5 rows × 30 columns</p>\n",
       "</div>"
      ],
      "text/plain": [
       "   LIMIT_BAL  SEX  MARRIAGE  AGE  TYPE2  PAY_0  PAY_2  PAY_3  PAY_4  PAY_5  \\\n",
       "0      20000    0         1   24      1      2      2     -1     -1     -2   \n",
       "1     120000    0         2   26      1     -1      2      0      0      0   \n",
       "2      90000    0         2   34      0      0      0      0      0      0   \n",
       "3      50000    0         1   37      0      0      0      0      0      0   \n",
       "4      50000    1         1   57      0     -1      0     -1      0      0   \n",
       "\n",
       "   ...  Generation_Boomer  LIMIT_BIN_0-50k  LIMIT_BIN_50k-100k  \\\n",
       "0  ...                  0                1                   0   \n",
       "1  ...                  0                0                   0   \n",
       "2  ...                  0                0                   1   \n",
       "3  ...                  0                1                   0   \n",
       "4  ...                  1                1                   0   \n",
       "\n",
       "   LIMIT_BIN_100k-150k  LIMIT_BIN_150k-200k  LIMIT_BIN_200k-250k  \\\n",
       "0                    0                    0                    0   \n",
       "1                    1                    0                    0   \n",
       "2                    0                    0                    0   \n",
       "3                    0                    0                    0   \n",
       "4                    0                    0                    0   \n",
       "\n",
       "   LIMIT_BIN_250-300k  LIMIT_BIN_300k-350k  LIMIT_BIN_350k-400k  \\\n",
       "0                   0                    0                    0   \n",
       "1                   0                    0                    0   \n",
       "2                   0                    0                    0   \n",
       "3                   0                    0                    0   \n",
       "4                   0                    0                    0   \n",
       "\n",
       "   LIMIT_BIN_400k-1000k  \n",
       "0                     0  \n",
       "1                     0  \n",
       "2                     0  \n",
       "3                     0  \n",
       "4                     0  \n",
       "\n",
       "[5 rows x 30 columns]"
      ]
     },
     "execution_count": 80,
     "metadata": {},
     "output_type": "execute_result"
    }
   ],
   "source": [
    "data1.head()"
   ]
  },
  {
   "cell_type": "code",
   "execution_count": 81,
   "metadata": {},
   "outputs": [
    {
     "name": "stdout",
     "output_type": "stream",
     "text": [
      "<class 'pandas.core.frame.DataFrame'>\n",
      "Int64Index: 30000 entries, 0 to 29999\n",
      "Data columns (total 30 columns):\n",
      " #   Column                     Non-Null Count  Dtype\n",
      "---  ------                     --------------  -----\n",
      " 0   LIMIT_BAL                  30000 non-null  int64\n",
      " 1   SEX                        30000 non-null  int32\n",
      " 2   MARRIAGE                   30000 non-null  int64\n",
      " 3   AGE                        30000 non-null  int64\n",
      " 4   TYPE2                      30000 non-null  int64\n",
      " 5   PAY_0                      30000 non-null  int64\n",
      " 6   PAY_2                      30000 non-null  int64\n",
      " 7   PAY_3                      30000 non-null  int64\n",
      " 8   PAY_4                      30000 non-null  int64\n",
      " 9   PAY_5                      30000 non-null  int64\n",
      " 10  PAY_6                      30000 non-null  int64\n",
      " 11  EDUCATION_graduate school  30000 non-null  uint8\n",
      " 12  EDUCATION_high school      30000 non-null  uint8\n",
      " 13  EDUCATION_other            30000 non-null  uint8\n",
      " 14  EDUCATION_university       30000 non-null  uint8\n",
      " 15  TYPE_default               30000 non-null  uint8\n",
      " 16  TYPE_not default           30000 non-null  uint8\n",
      " 17  Generation_Gen Z           30000 non-null  uint8\n",
      " 18  Generation_Millennial      30000 non-null  uint8\n",
      " 19  Generation_Gen X           30000 non-null  uint8\n",
      " 20  Generation_Boomer          30000 non-null  uint8\n",
      " 21  LIMIT_BIN_0-50k            30000 non-null  uint8\n",
      " 22  LIMIT_BIN_50k-100k         30000 non-null  uint8\n",
      " 23  LIMIT_BIN_100k-150k        30000 non-null  uint8\n",
      " 24  LIMIT_BIN_150k-200k        30000 non-null  uint8\n",
      " 25  LIMIT_BIN_200k-250k        30000 non-null  uint8\n",
      " 26  LIMIT_BIN_250-300k         30000 non-null  uint8\n",
      " 27  LIMIT_BIN_300k-350k        30000 non-null  uint8\n",
      " 28  LIMIT_BIN_350k-400k        30000 non-null  uint8\n",
      " 29  LIMIT_BIN_400k-1000k       30000 non-null  uint8\n",
      "dtypes: int32(1), int64(10), uint8(19)\n",
      "memory usage: 4.4 MB\n"
     ]
    }
   ],
   "source": [
    "data1.info()"
   ]
  },
  {
   "cell_type": "code",
   "execution_count": 82,
   "metadata": {},
   "outputs": [],
   "source": [
    "datapayment = data1.iloc[:,[4,5,6,7,8,9,10,21]]"
   ]
  },
  {
   "cell_type": "code",
   "execution_count": 83,
   "metadata": {},
   "outputs": [
    {
     "data": {
      "text/html": [
       "<div>\n",
       "<style scoped>\n",
       "    .dataframe tbody tr th:only-of-type {\n",
       "        vertical-align: middle;\n",
       "    }\n",
       "\n",
       "    .dataframe tbody tr th {\n",
       "        vertical-align: top;\n",
       "    }\n",
       "\n",
       "    .dataframe thead th {\n",
       "        text-align: right;\n",
       "    }\n",
       "</style>\n",
       "<table border=\"1\" class=\"dataframe\">\n",
       "  <thead>\n",
       "    <tr style=\"text-align: right;\">\n",
       "      <th></th>\n",
       "      <th>TYPE2</th>\n",
       "      <th>PAY_0</th>\n",
       "      <th>PAY_2</th>\n",
       "      <th>PAY_3</th>\n",
       "      <th>PAY_4</th>\n",
       "      <th>PAY_5</th>\n",
       "      <th>PAY_6</th>\n",
       "      <th>LIMIT_BIN_0-50k</th>\n",
       "    </tr>\n",
       "  </thead>\n",
       "  <tbody>\n",
       "    <tr>\n",
       "      <th>0</th>\n",
       "      <td>1</td>\n",
       "      <td>2</td>\n",
       "      <td>2</td>\n",
       "      <td>-1</td>\n",
       "      <td>-1</td>\n",
       "      <td>-2</td>\n",
       "      <td>-2</td>\n",
       "      <td>1</td>\n",
       "    </tr>\n",
       "    <tr>\n",
       "      <th>1</th>\n",
       "      <td>1</td>\n",
       "      <td>-1</td>\n",
       "      <td>2</td>\n",
       "      <td>0</td>\n",
       "      <td>0</td>\n",
       "      <td>0</td>\n",
       "      <td>2</td>\n",
       "      <td>0</td>\n",
       "    </tr>\n",
       "    <tr>\n",
       "      <th>2</th>\n",
       "      <td>0</td>\n",
       "      <td>0</td>\n",
       "      <td>0</td>\n",
       "      <td>0</td>\n",
       "      <td>0</td>\n",
       "      <td>0</td>\n",
       "      <td>0</td>\n",
       "      <td>0</td>\n",
       "    </tr>\n",
       "    <tr>\n",
       "      <th>3</th>\n",
       "      <td>0</td>\n",
       "      <td>0</td>\n",
       "      <td>0</td>\n",
       "      <td>0</td>\n",
       "      <td>0</td>\n",
       "      <td>0</td>\n",
       "      <td>0</td>\n",
       "      <td>1</td>\n",
       "    </tr>\n",
       "    <tr>\n",
       "      <th>4</th>\n",
       "      <td>0</td>\n",
       "      <td>-1</td>\n",
       "      <td>0</td>\n",
       "      <td>-1</td>\n",
       "      <td>0</td>\n",
       "      <td>0</td>\n",
       "      <td>0</td>\n",
       "      <td>1</td>\n",
       "    </tr>\n",
       "  </tbody>\n",
       "</table>\n",
       "</div>"
      ],
      "text/plain": [
       "   TYPE2  PAY_0  PAY_2  PAY_3  PAY_4  PAY_5  PAY_6  LIMIT_BIN_0-50k\n",
       "0      1      2      2     -1     -1     -2     -2                1\n",
       "1      1     -1      2      0      0      0      2                0\n",
       "2      0      0      0      0      0      0      0                0\n",
       "3      0      0      0      0      0      0      0                1\n",
       "4      0     -1      0     -1      0      0      0                1"
      ]
     },
     "execution_count": 83,
     "metadata": {},
     "output_type": "execute_result"
    }
   ],
   "source": [
    "datapayment.head()"
   ]
  },
  {
   "cell_type": "code",
   "execution_count": 84,
   "metadata": {},
   "outputs": [
    {
     "name": "stdout",
     "output_type": "stream",
     "text": [
      "<class 'pandas.core.frame.DataFrame'>\n",
      "Int64Index: 30000 entries, 0 to 29999\n",
      "Data columns (total 8 columns):\n",
      " #   Column           Non-Null Count  Dtype\n",
      "---  ------           --------------  -----\n",
      " 0   TYPE2            30000 non-null  int64\n",
      " 1   PAY_0            30000 non-null  int64\n",
      " 2   PAY_2            30000 non-null  int64\n",
      " 3   PAY_3            30000 non-null  int64\n",
      " 4   PAY_4            30000 non-null  int64\n",
      " 5   PAY_5            30000 non-null  int64\n",
      " 6   PAY_6            30000 non-null  int64\n",
      " 7   LIMIT_BIN_0-50k  30000 non-null  uint8\n",
      "dtypes: int64(7), uint8(1)\n",
      "memory usage: 3.1 MB\n"
     ]
    }
   ],
   "source": [
    "datapayment.info()"
   ]
  },
  {
   "cell_type": "code",
   "execution_count": 85,
   "metadata": {},
   "outputs": [
    {
     "name": "stdout",
     "output_type": "stream",
     "text": [
      "Summary of feature sample\n"
     ]
    },
    {
     "data": {
      "text/html": [
       "<div>\n",
       "<style scoped>\n",
       "    .dataframe tbody tr th:only-of-type {\n",
       "        vertical-align: middle;\n",
       "    }\n",
       "\n",
       "    .dataframe tbody tr th {\n",
       "        vertical-align: top;\n",
       "    }\n",
       "\n",
       "    .dataframe thead th {\n",
       "        text-align: right;\n",
       "    }\n",
       "</style>\n",
       "<table border=\"1\" class=\"dataframe\">\n",
       "  <thead>\n",
       "    <tr style=\"text-align: right;\">\n",
       "      <th></th>\n",
       "      <th>PAY_0</th>\n",
       "      <th>PAY_2</th>\n",
       "      <th>PAY_3</th>\n",
       "      <th>PAY_4</th>\n",
       "      <th>PAY_5</th>\n",
       "      <th>PAY_6</th>\n",
       "      <th>LIMIT_BIN_0-50k</th>\n",
       "    </tr>\n",
       "  </thead>\n",
       "  <tbody>\n",
       "    <tr>\n",
       "      <th>0</th>\n",
       "      <td>2</td>\n",
       "      <td>2</td>\n",
       "      <td>-1</td>\n",
       "      <td>-1</td>\n",
       "      <td>-2</td>\n",
       "      <td>-2</td>\n",
       "      <td>1</td>\n",
       "    </tr>\n",
       "    <tr>\n",
       "      <th>1</th>\n",
       "      <td>-1</td>\n",
       "      <td>2</td>\n",
       "      <td>0</td>\n",
       "      <td>0</td>\n",
       "      <td>0</td>\n",
       "      <td>2</td>\n",
       "      <td>0</td>\n",
       "    </tr>\n",
       "    <tr>\n",
       "      <th>2</th>\n",
       "      <td>0</td>\n",
       "      <td>0</td>\n",
       "      <td>0</td>\n",
       "      <td>0</td>\n",
       "      <td>0</td>\n",
       "      <td>0</td>\n",
       "      <td>0</td>\n",
       "    </tr>\n",
       "    <tr>\n",
       "      <th>3</th>\n",
       "      <td>0</td>\n",
       "      <td>0</td>\n",
       "      <td>0</td>\n",
       "      <td>0</td>\n",
       "      <td>0</td>\n",
       "      <td>0</td>\n",
       "      <td>1</td>\n",
       "    </tr>\n",
       "    <tr>\n",
       "      <th>4</th>\n",
       "      <td>-1</td>\n",
       "      <td>0</td>\n",
       "      <td>-1</td>\n",
       "      <td>0</td>\n",
       "      <td>0</td>\n",
       "      <td>0</td>\n",
       "      <td>1</td>\n",
       "    </tr>\n",
       "  </tbody>\n",
       "</table>\n",
       "</div>"
      ],
      "text/plain": [
       "   PAY_0  PAY_2  PAY_3  PAY_4  PAY_5  PAY_6  LIMIT_BIN_0-50k\n",
       "0      2      2     -1     -1     -2     -2                1\n",
       "1     -1      2      0      0      0      2                0\n",
       "2      0      0      0      0      0      0                0\n",
       "3      0      0      0      0      0      0                1\n",
       "4     -1      0     -1      0      0      0                1"
      ]
     },
     "execution_count": 85,
     "metadata": {},
     "output_type": "execute_result"
    }
   ],
   "source": [
    "#MODELING\n",
    "# features\n",
    "X = datapayment.iloc[:,1:8]\n",
    "print('Summary of feature sample')\n",
    "X.head()"
   ]
  },
  {
   "cell_type": "code",
   "execution_count": 86,
   "metadata": {},
   "outputs": [
    {
     "data": {
      "text/plain": [
       "0    1\n",
       "1    1\n",
       "2    0\n",
       "3    0\n",
       "4    0\n",
       "Name: TYPE2, dtype: int64"
      ]
     },
     "execution_count": 86,
     "metadata": {},
     "output_type": "execute_result"
    }
   ],
   "source": [
    "# dependent variable\n",
    "y = datapayment['TYPE2']\n",
    "y.head()"
   ]
  },
  {
   "cell_type": "code",
   "execution_count": 87,
   "metadata": {},
   "outputs": [
    {
     "name": "stdout",
     "output_type": "stream",
     "text": [
      "[('Random Forest Classifier', RandomForestClassifier(bootstrap=True, ccp_alpha=0.0, class_weight=None,\n",
      "                       criterion='gini', max_depth=None, max_features='auto',\n",
      "                       max_leaf_nodes=None, max_samples=None,\n",
      "                       min_impurity_decrease=0.0, min_impurity_split=None,\n",
      "                       min_samples_leaf=1, min_samples_split=2,\n",
      "                       min_weight_fraction_leaf=0.0, n_estimators=100,\n",
      "                       n_jobs=None, oob_score=False, random_state=None,\n",
      "                       verbose=0, warm_start=False)), ('Decision Tree Classifier', DecisionTreeClassifier(ccp_alpha=0.0, class_weight=None, criterion='gini',\n",
      "                       max_depth=None, max_features=None, max_leaf_nodes=None,\n",
      "                       min_impurity_decrease=0.0, min_impurity_split=None,\n",
      "                       min_samples_leaf=1, min_samples_split=2,\n",
      "                       min_weight_fraction_leaf=0.0, presort='deprecated',\n",
      "                       random_state=None, splitter='best')), ('Gradient Boosting Classifier', GradientBoostingClassifier(ccp_alpha=0.0, criterion='friedman_mse', init=None,\n",
      "                           learning_rate=0.1, loss='deviance', max_depth=3,\n",
      "                           max_features=None, max_leaf_nodes=None,\n",
      "                           min_impurity_decrease=0.0, min_impurity_split=None,\n",
      "                           min_samples_leaf=1, min_samples_split=2,\n",
      "                           min_weight_fraction_leaf=0.0, n_estimators=100,\n",
      "                           n_iter_no_change=None, presort='deprecated',\n",
      "                           random_state=None, subsample=1.0, tol=0.0001,\n",
      "                           validation_fraction=0.1, verbose=0,\n",
      "                           warm_start=False))]\n"
     ]
    }
   ],
   "source": [
    "algos_Class = []\n",
    "algos_Class.append(('Random Forest Classifier', RandomForestClassifier()))\n",
    "algos_Class.append(('Decision Tree Classifier', DecisionTreeClassifier()))\n",
    "algos_Class.append(('Gradient Boosting Classifier', GradientBoostingClassifier()))\n",
    "print(algos_Class)"
   ]
  },
  {
   "cell_type": "code",
   "execution_count": 88,
   "metadata": {},
   "outputs": [],
   "source": [
    "#classification\n",
    "results = []\n",
    "names = []\n",
    "for name, model in algos_Class:\n",
    "    result = cross_val_score(model, X,y, cv=3, scoring='accuracy')\n",
    "    names.append(name)\n",
    "    results.append(result)"
   ]
  },
  {
   "cell_type": "code",
   "execution_count": 89,
   "metadata": {},
   "outputs": [
    {
     "name": "stdout",
     "output_type": "stream",
     "text": [
      "Random Forest Classifier 0.8139333333333333\n",
      "Decision Tree Classifier 0.8138666666666667\n",
      "Gradient Boosting Classifier 0.8200333333333333\n"
     ]
    }
   ],
   "source": [
    "for i in range(len(names)):\n",
    "    print(names[i],results[i].mean())"
   ]
  },
  {
   "cell_type": "code",
   "execution_count": 90,
   "metadata": {},
   "outputs": [],
   "source": [
    "#Train Model\n",
    "\n",
    "X_train, X_test, y_train, y_test = train_test_split(X, y, test_size = .30, random_state = 123)"
   ]
  },
  {
   "cell_type": "code",
   "execution_count": 91,
   "metadata": {},
   "outputs": [],
   "source": [
    "#Modeling (Classification)\n",
    "algo = GradientBoostingClassifier()\n",
    "model = algo.fit(X_train,y_train)"
   ]
  },
  {
   "cell_type": "code",
   "execution_count": 92,
   "metadata": {},
   "outputs": [
    {
     "name": "stdout",
     "output_type": "stream",
     "text": [
      "Accuracy Gradient\n"
     ]
    },
    {
     "data": {
      "text/plain": [
       "(None, 0.8208888888888889)"
      ]
     },
     "execution_count": 92,
     "metadata": {},
     "output_type": "execute_result"
    }
   ],
   "source": [
    "#Predictions\n",
    "preds = model.predict(X_test)\n",
    "print ('Accuracy Gradient'), accuracy_score(y_test, preds)"
   ]
  },
  {
   "cell_type": "code",
   "execution_count": 93,
   "metadata": {},
   "outputs": [
    {
     "name": "stdout",
     "output_type": "stream",
     "text": [
      "              precision    recall  f1-score   support\n",
      "\n",
      "           0       0.84      0.95      0.89      7052\n",
      "           1       0.65      0.37      0.47      1948\n",
      "\n",
      "    accuracy                           0.82      9000\n",
      "   macro avg       0.75      0.66      0.68      9000\n",
      "weighted avg       0.80      0.82      0.80      9000\n",
      "\n"
     ]
    }
   ],
   "source": [
    "print(classification_report(y_test, preds))"
   ]
  },
  {
   "cell_type": "code",
   "execution_count": null,
   "metadata": {},
   "outputs": [],
   "source": []
  }
 ],
 "metadata": {
  "kernelspec": {
   "display_name": "Python 3",
   "language": "python",
   "name": "python3"
  },
  "language_info": {
   "codemirror_mode": {
    "name": "ipython",
    "version": 3
   },
   "file_extension": ".py",
   "mimetype": "text/x-python",
   "name": "python",
   "nbconvert_exporter": "python",
   "pygments_lexer": "ipython3",
   "version": "3.8.2"
  },
  "toc": {
   "base_numbering": 1,
   "nav_menu": {},
   "number_sections": true,
   "sideBar": true,
   "skip_h1_title": false,
   "title_cell": "Table of Contents",
   "title_sidebar": "Contents",
   "toc_cell": false,
   "toc_position": {
    "height": "calc(100% - 180px)",
    "left": "10px",
    "top": "150px",
    "width": "349.063px"
   },
   "toc_section_display": true,
   "toc_window_display": true
  }
 },
 "nbformat": 4,
 "nbformat_minor": 4
}
